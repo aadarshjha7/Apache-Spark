{
 "metadata": {
  "kernelspec": {
   "language": "python",
   "display_name": "Python 3",
   "name": "python3"
  },
  "language_info": {
   "name": "python",
   "version": "3.7.12",
   "mimetype": "text/x-python",
   "codemirror_mode": {
    "name": "ipython",
    "version": 3
   },
   "pygments_lexer": "ipython3",
   "nbconvert_exporter": "python",
   "file_extension": ".py"
  }
 },
 "nbformat_minor": 4,
 "nbformat": 4,
 "cells": [
  {
   "cell_type": "code",
   "source": [
    "!pip install pyspark"
   ],
   "metadata": {
    "_uuid": "8f2839f25d086af736a60e9eeb907d3b93b6e0e5",
    "_cell_guid": "b1076dfc-b9ad-4769-8c92-a6c4dae69d19",
    "execution": {
     "iopub.status.busy": "2023-04-25T03:47:51.480241Z",
     "iopub.execute_input": "2023-04-25T03:47:51.480746Z",
     "iopub.status.idle": "2023-04-25T03:48:45.864612Z",
     "shell.execute_reply.started": "2023-04-25T03:47:51.480704Z",
     "shell.execute_reply": "2023-04-25T03:48:45.862910Z"
    },
    "trusted": true,
    "ExecuteTime": {
     "start_time": "2023-04-25T12:21:02.359746Z",
     "end_time": "2023-04-25T12:21:03.318959Z"
    }
   },
   "execution_count": 1,
   "outputs": [
    {
     "name": "stdout",
     "output_type": "stream",
     "text": [
      "Requirement already satisfied: pyspark in c:\\users\\aadarsh jha\\pycharmprojects\\spark\\rdd\\venv\\lib\\site-packages (3.4.0)\n",
      "Requirement already satisfied: py4j==0.10.9.7 in c:\\users\\aadarsh jha\\pycharmprojects\\spark\\rdd\\venv\\lib\\site-packages (from pyspark) (0.10.9.7)\n"
     ]
    },
    {
     "name": "stderr",
     "output_type": "stream",
     "text": [
      "You are using pip version 10.0.1, however version 23.1.1 is available.\n",
      "You should consider upgrading via the 'python -m pip install --upgrade pip' command.\n"
     ]
    }
   ]
  },
  {
   "cell_type": "code",
   "source": [
    "from pyspark.sql import SparkSession\n",
    "spark = SparkSession.builder \\\n",
    "    .appName(\"PySpark\") \\\n",
    "    .getOrCreate()"
   ],
   "metadata": {
    "execution": {
     "iopub.status.busy": "2023-04-25T03:49:54.275798Z",
     "iopub.execute_input": "2023-04-25T03:49:54.276303Z",
     "iopub.status.idle": "2023-04-25T03:49:55.629066Z",
     "shell.execute_reply.started": "2023-04-25T03:49:54.276261Z",
     "shell.execute_reply": "2023-04-25T03:49:55.627969Z"
    },
    "trusted": true,
    "ExecuteTime": {
     "start_time": "2023-04-25T12:21:03.356842Z",
     "end_time": "2023-04-25T12:21:19.562246Z"
    }
   },
   "execution_count": 2,
   "outputs": [
    {
     "name": "stderr",
     "output_type": "stream",
     "text": [
      "c:\\users\\aadarsh jha\\pycharmprojects\\spark\\rdd\\venv\\lib\\site-packages\\pyspark\\context.py:317: FutureWarning: Python 3.7 support is deprecated in Spark 3.4.\n",
      "  warnings.warn(\"Python 3.7 support is deprecated in Spark 3.4.\", FutureWarning)\n"
     ]
    }
   ]
  },
  {
   "cell_type": "code",
   "source": [
    "from pyspark import SparkContext\n",
    "sc = SparkContext.getOrCreate()"
   ],
   "metadata": {
    "execution": {
     "iopub.status.busy": "2023-04-25T03:51:59.408029Z",
     "iopub.execute_input": "2023-04-25T03:51:59.408628Z",
     "iopub.status.idle": "2023-04-25T03:51:59.416075Z",
     "shell.execute_reply.started": "2023-04-25T03:51:59.408580Z",
     "shell.execute_reply": "2023-04-25T03:51:59.413658Z"
    },
    "trusted": true,
    "ExecuteTime": {
     "start_time": "2023-04-25T12:21:19.563747Z",
     "end_time": "2023-04-25T12:21:19.606241Z"
    }
   },
   "execution_count": 3,
   "outputs": []
  },
  {
   "cell_type": "code",
   "source": [
    "rdd = sc.parallelize([1,2,3,4,5])\n"
   ],
   "metadata": {
    "execution": {
     "iopub.status.busy": "2023-04-25T03:52:00.249472Z",
     "iopub.execute_input": "2023-04-25T03:52:00.251181Z",
     "iopub.status.idle": "2023-04-25T03:52:00.267269Z",
     "shell.execute_reply.started": "2023-04-25T03:52:00.251102Z",
     "shell.execute_reply": "2023-04-25T03:52:00.266142Z"
    },
    "trusted": true,
    "ExecuteTime": {
     "start_time": "2023-04-25T12:21:19.579859Z",
     "end_time": "2023-04-25T12:21:19.872194Z"
    }
   },
   "execution_count": 4,
   "outputs": []
  },
  {
   "cell_type": "code",
   "source": [
    "rdd_mapped =rdd.map(lambda x: x*10)"
   ],
   "metadata": {
    "execution": {
     "iopub.status.busy": "2023-04-25T03:52:03.095973Z",
     "iopub.execute_input": "2023-04-25T03:52:03.096839Z",
     "iopub.status.idle": "2023-04-25T03:52:03.106908Z",
     "shell.execute_reply.started": "2023-04-25T03:52:03.096786Z",
     "shell.execute_reply": "2023-04-25T03:52:03.105586Z"
    },
    "trusted": true,
    "ExecuteTime": {
     "start_time": "2023-04-25T12:21:19.874197Z",
     "end_time": "2023-04-25T12:21:19.887073Z"
    }
   },
   "execution_count": 5,
   "outputs": []
  },
  {
   "cell_type": "code",
   "source": [
    "print(rdd_mapped.collect())"
   ],
   "metadata": {
    "execution": {
     "iopub.status.busy": "2023-04-25T03:52:04.038083Z",
     "iopub.execute_input": "2023-04-25T03:52:04.039091Z",
     "iopub.status.idle": "2023-04-25T03:52:06.128506Z",
     "shell.execute_reply.started": "2023-04-25T03:52:04.039015Z",
     "shell.execute_reply": "2023-04-25T03:52:06.126131Z"
    },
    "trusted": true
   },
   "execution_count": 6,
   "outputs": [
    {
     "ename": "TypeError",
     "evalue": "'JavaPackage' object is not callable",
     "output_type": "error",
     "traceback": [
      "\u001B[1;31m---------------------------------------------------------------------------\u001B[0m",
      "\u001B[1;31mTypeError\u001B[0m                                 Traceback (most recent call last)",
      "\u001B[1;32m~\\AppData\\Local\\Temp\\ipykernel_23496\\698942896.py\u001B[0m in \u001B[0;36m<module>\u001B[1;34m\u001B[0m\n\u001B[1;32m----> 1\u001B[1;33m \u001B[0mprint\u001B[0m\u001B[1;33m(\u001B[0m\u001B[0mrdd_mapped\u001B[0m\u001B[1;33m.\u001B[0m\u001B[0mcollect\u001B[0m\u001B[1;33m(\u001B[0m\u001B[1;33m)\u001B[0m\u001B[1;33m)\u001B[0m\u001B[1;33m\u001B[0m\u001B[0m\n\u001B[0m",
      "\u001B[1;32mc:\\users\\aadarsh jha\\pycharmprojects\\spark\\rdd\\venv\\lib\\site-packages\\pyspark\\rdd.py\u001B[0m in \u001B[0;36mcollect\u001B[1;34m(self)\u001B[0m\n\u001B[0;32m   1812\u001B[0m         \u001B[1;32mwith\u001B[0m \u001B[0mSCCallSiteSync\u001B[0m\u001B[1;33m(\u001B[0m\u001B[0mself\u001B[0m\u001B[1;33m.\u001B[0m\u001B[0mcontext\u001B[0m\u001B[1;33m)\u001B[0m\u001B[1;33m:\u001B[0m\u001B[1;33m\u001B[0m\u001B[0m\n\u001B[0;32m   1813\u001B[0m             \u001B[1;32massert\u001B[0m \u001B[0mself\u001B[0m\u001B[1;33m.\u001B[0m\u001B[0mctx\u001B[0m\u001B[1;33m.\u001B[0m\u001B[0m_jvm\u001B[0m \u001B[1;32mis\u001B[0m \u001B[1;32mnot\u001B[0m \u001B[1;32mNone\u001B[0m\u001B[1;33m\u001B[0m\u001B[0m\n\u001B[1;32m-> 1814\u001B[1;33m             \u001B[0msock_info\u001B[0m \u001B[1;33m=\u001B[0m \u001B[0mself\u001B[0m\u001B[1;33m.\u001B[0m\u001B[0mctx\u001B[0m\u001B[1;33m.\u001B[0m\u001B[0m_jvm\u001B[0m\u001B[1;33m.\u001B[0m\u001B[0mPythonRDD\u001B[0m\u001B[1;33m.\u001B[0m\u001B[0mcollectAndServe\u001B[0m\u001B[1;33m(\u001B[0m\u001B[0mself\u001B[0m\u001B[1;33m.\u001B[0m\u001B[0m_jrdd\u001B[0m\u001B[1;33m.\u001B[0m\u001B[0mrdd\u001B[0m\u001B[1;33m(\u001B[0m\u001B[1;33m)\u001B[0m\u001B[1;33m)\u001B[0m\u001B[1;33m\u001B[0m\u001B[0m\n\u001B[0m\u001B[0;32m   1815\u001B[0m         \u001B[1;32mreturn\u001B[0m \u001B[0mlist\u001B[0m\u001B[1;33m(\u001B[0m\u001B[0m_load_from_socket\u001B[0m\u001B[1;33m(\u001B[0m\u001B[0msock_info\u001B[0m\u001B[1;33m,\u001B[0m \u001B[0mself\u001B[0m\u001B[1;33m.\u001B[0m\u001B[0m_jrdd_deserializer\u001B[0m\u001B[1;33m)\u001B[0m\u001B[1;33m)\u001B[0m\u001B[1;33m\u001B[0m\u001B[0m\n\u001B[0;32m   1816\u001B[0m \u001B[1;33m\u001B[0m\u001B[0m\n",
      "\u001B[1;32mc:\\users\\aadarsh jha\\pycharmprojects\\spark\\rdd\\venv\\lib\\site-packages\\pyspark\\rdd.py\u001B[0m in \u001B[0;36m_jrdd\u001B[1;34m(self)\u001B[0m\n\u001B[0;32m   5440\u001B[0m \u001B[1;33m\u001B[0m\u001B[0m\n\u001B[0;32m   5441\u001B[0m         wrapped_func = _wrap_function(\n\u001B[1;32m-> 5442\u001B[1;33m             \u001B[0mself\u001B[0m\u001B[1;33m.\u001B[0m\u001B[0mctx\u001B[0m\u001B[1;33m,\u001B[0m \u001B[0mself\u001B[0m\u001B[1;33m.\u001B[0m\u001B[0mfunc\u001B[0m\u001B[1;33m,\u001B[0m \u001B[0mself\u001B[0m\u001B[1;33m.\u001B[0m\u001B[0m_prev_jrdd_deserializer\u001B[0m\u001B[1;33m,\u001B[0m \u001B[0mself\u001B[0m\u001B[1;33m.\u001B[0m\u001B[0m_jrdd_deserializer\u001B[0m\u001B[1;33m,\u001B[0m \u001B[0mprofiler\u001B[0m\u001B[1;33m\u001B[0m\u001B[0m\n\u001B[0m\u001B[0;32m   5443\u001B[0m         )\n\u001B[0;32m   5444\u001B[0m \u001B[1;33m\u001B[0m\u001B[0m\n",
      "\u001B[1;32mc:\\users\\aadarsh jha\\pycharmprojects\\spark\\rdd\\venv\\lib\\site-packages\\pyspark\\rdd.py\u001B[0m in \u001B[0;36m_wrap_function\u001B[1;34m(sc, func, deserializer, serializer, profiler)\u001B[0m\n\u001B[0;32m   5248\u001B[0m         \u001B[0msc\u001B[0m\u001B[1;33m.\u001B[0m\u001B[0mpythonVer\u001B[0m\u001B[1;33m,\u001B[0m\u001B[1;33m\u001B[0m\u001B[0m\n\u001B[0;32m   5249\u001B[0m         \u001B[0mbroadcast_vars\u001B[0m\u001B[1;33m,\u001B[0m\u001B[1;33m\u001B[0m\u001B[0m\n\u001B[1;32m-> 5250\u001B[1;33m         \u001B[0msc\u001B[0m\u001B[1;33m.\u001B[0m\u001B[0m_javaAccumulator\u001B[0m\u001B[1;33m,\u001B[0m\u001B[1;33m\u001B[0m\u001B[0m\n\u001B[0m\u001B[0;32m   5251\u001B[0m     )\n\u001B[0;32m   5252\u001B[0m \u001B[1;33m\u001B[0m\u001B[0m\n",
      "\u001B[1;31mTypeError\u001B[0m: 'JavaPackage' object is not callable"
     ]
    }
   ]
  },
  {
   "cell_type": "code",
   "source": [
    "fil = sc.parallelize([24,56,74,58,55,51,89,82])"
   ],
   "metadata": {
    "execution": {
     "iopub.status.busy": "2023-04-25T03:52:07.319445Z",
     "iopub.execute_input": "2023-04-25T03:52:07.319884Z",
     "iopub.status.idle": "2023-04-25T03:52:07.332215Z",
     "shell.execute_reply.started": "2023-04-25T03:52:07.319831Z",
     "shell.execute_reply": "2023-04-25T03:52:07.330840Z"
    },
    "trusted": true,
    "ExecuteTime": {
     "start_time": "2023-04-25T12:21:30.711817Z",
     "end_time": "2023-04-25T12:21:30.736246Z"
    }
   },
   "execution_count": 7,
   "outputs": []
  },
  {
   "cell_type": "code",
   "source": [
    "filter_rdd = fil.filter(lambda x: x%2==0)"
   ],
   "metadata": {
    "execution": {
     "iopub.status.busy": "2023-04-25T03:52:08.183965Z",
     "iopub.execute_input": "2023-04-25T03:52:08.185086Z",
     "iopub.status.idle": "2023-04-25T03:52:08.193094Z",
     "shell.execute_reply.started": "2023-04-25T03:52:08.184994Z",
     "shell.execute_reply": "2023-04-25T03:52:08.191477Z"
    },
    "trusted": true,
    "ExecuteTime": {
     "start_time": "2023-04-25T12:21:31.524909Z",
     "end_time": "2023-04-25T12:21:31.540784Z"
    }
   },
   "execution_count": 8,
   "outputs": []
  },
  {
   "cell_type": "code",
   "source": [
    "print(filter_rdd.collect())"
   ],
   "metadata": {
    "execution": {
     "iopub.status.busy": "2023-04-25T03:52:09.117898Z",
     "iopub.execute_input": "2023-04-25T03:52:09.119474Z",
     "iopub.status.idle": "2023-04-25T03:52:09.319978Z",
     "shell.execute_reply.started": "2023-04-25T03:52:09.119414Z",
     "shell.execute_reply": "2023-04-25T03:52:09.318472Z"
    },
    "trusted": true
   },
   "execution_count": 9,
   "outputs": [
    {
     "ename": "TypeError",
     "evalue": "'JavaPackage' object is not callable",
     "output_type": "error",
     "traceback": [
      "\u001B[1;31m---------------------------------------------------------------------------\u001B[0m",
      "\u001B[1;31mTypeError\u001B[0m                                 Traceback (most recent call last)",
      "\u001B[1;32m~\\AppData\\Local\\Temp\\ipykernel_23496\\1984517043.py\u001B[0m in \u001B[0;36m<module>\u001B[1;34m\u001B[0m\n\u001B[1;32m----> 1\u001B[1;33m \u001B[0mprint\u001B[0m\u001B[1;33m(\u001B[0m\u001B[0mfilter_rdd\u001B[0m\u001B[1;33m.\u001B[0m\u001B[0mcollect\u001B[0m\u001B[1;33m(\u001B[0m\u001B[1;33m)\u001B[0m\u001B[1;33m)\u001B[0m\u001B[1;33m\u001B[0m\u001B[0m\n\u001B[0m",
      "\u001B[1;32mc:\\users\\aadarsh jha\\pycharmprojects\\spark\\rdd\\venv\\lib\\site-packages\\pyspark\\rdd.py\u001B[0m in \u001B[0;36mcollect\u001B[1;34m(self)\u001B[0m\n\u001B[0;32m   1812\u001B[0m         \u001B[1;32mwith\u001B[0m \u001B[0mSCCallSiteSync\u001B[0m\u001B[1;33m(\u001B[0m\u001B[0mself\u001B[0m\u001B[1;33m.\u001B[0m\u001B[0mcontext\u001B[0m\u001B[1;33m)\u001B[0m\u001B[1;33m:\u001B[0m\u001B[1;33m\u001B[0m\u001B[0m\n\u001B[0;32m   1813\u001B[0m             \u001B[1;32massert\u001B[0m \u001B[0mself\u001B[0m\u001B[1;33m.\u001B[0m\u001B[0mctx\u001B[0m\u001B[1;33m.\u001B[0m\u001B[0m_jvm\u001B[0m \u001B[1;32mis\u001B[0m \u001B[1;32mnot\u001B[0m \u001B[1;32mNone\u001B[0m\u001B[1;33m\u001B[0m\u001B[0m\n\u001B[1;32m-> 1814\u001B[1;33m             \u001B[0msock_info\u001B[0m \u001B[1;33m=\u001B[0m \u001B[0mself\u001B[0m\u001B[1;33m.\u001B[0m\u001B[0mctx\u001B[0m\u001B[1;33m.\u001B[0m\u001B[0m_jvm\u001B[0m\u001B[1;33m.\u001B[0m\u001B[0mPythonRDD\u001B[0m\u001B[1;33m.\u001B[0m\u001B[0mcollectAndServe\u001B[0m\u001B[1;33m(\u001B[0m\u001B[0mself\u001B[0m\u001B[1;33m.\u001B[0m\u001B[0m_jrdd\u001B[0m\u001B[1;33m.\u001B[0m\u001B[0mrdd\u001B[0m\u001B[1;33m(\u001B[0m\u001B[1;33m)\u001B[0m\u001B[1;33m)\u001B[0m\u001B[1;33m\u001B[0m\u001B[0m\n\u001B[0m\u001B[0;32m   1815\u001B[0m         \u001B[1;32mreturn\u001B[0m \u001B[0mlist\u001B[0m\u001B[1;33m(\u001B[0m\u001B[0m_load_from_socket\u001B[0m\u001B[1;33m(\u001B[0m\u001B[0msock_info\u001B[0m\u001B[1;33m,\u001B[0m \u001B[0mself\u001B[0m\u001B[1;33m.\u001B[0m\u001B[0m_jrdd_deserializer\u001B[0m\u001B[1;33m)\u001B[0m\u001B[1;33m)\u001B[0m\u001B[1;33m\u001B[0m\u001B[0m\n\u001B[0;32m   1816\u001B[0m \u001B[1;33m\u001B[0m\u001B[0m\n",
      "\u001B[1;32mc:\\users\\aadarsh jha\\pycharmprojects\\spark\\rdd\\venv\\lib\\site-packages\\pyspark\\rdd.py\u001B[0m in \u001B[0;36m_jrdd\u001B[1;34m(self)\u001B[0m\n\u001B[0;32m   5440\u001B[0m \u001B[1;33m\u001B[0m\u001B[0m\n\u001B[0;32m   5441\u001B[0m         wrapped_func = _wrap_function(\n\u001B[1;32m-> 5442\u001B[1;33m             \u001B[0mself\u001B[0m\u001B[1;33m.\u001B[0m\u001B[0mctx\u001B[0m\u001B[1;33m,\u001B[0m \u001B[0mself\u001B[0m\u001B[1;33m.\u001B[0m\u001B[0mfunc\u001B[0m\u001B[1;33m,\u001B[0m \u001B[0mself\u001B[0m\u001B[1;33m.\u001B[0m\u001B[0m_prev_jrdd_deserializer\u001B[0m\u001B[1;33m,\u001B[0m \u001B[0mself\u001B[0m\u001B[1;33m.\u001B[0m\u001B[0m_jrdd_deserializer\u001B[0m\u001B[1;33m,\u001B[0m \u001B[0mprofiler\u001B[0m\u001B[1;33m\u001B[0m\u001B[0m\n\u001B[0m\u001B[0;32m   5443\u001B[0m         )\n\u001B[0;32m   5444\u001B[0m \u001B[1;33m\u001B[0m\u001B[0m\n",
      "\u001B[1;32mc:\\users\\aadarsh jha\\pycharmprojects\\spark\\rdd\\venv\\lib\\site-packages\\pyspark\\rdd.py\u001B[0m in \u001B[0;36m_wrap_function\u001B[1;34m(sc, func, deserializer, serializer, profiler)\u001B[0m\n\u001B[0;32m   5248\u001B[0m         \u001B[0msc\u001B[0m\u001B[1;33m.\u001B[0m\u001B[0mpythonVer\u001B[0m\u001B[1;33m,\u001B[0m\u001B[1;33m\u001B[0m\u001B[0m\n\u001B[0;32m   5249\u001B[0m         \u001B[0mbroadcast_vars\u001B[0m\u001B[1;33m,\u001B[0m\u001B[1;33m\u001B[0m\u001B[0m\n\u001B[1;32m-> 5250\u001B[1;33m         \u001B[0msc\u001B[0m\u001B[1;33m.\u001B[0m\u001B[0m_javaAccumulator\u001B[0m\u001B[1;33m,\u001B[0m\u001B[1;33m\u001B[0m\u001B[0m\n\u001B[0m\u001B[0;32m   5251\u001B[0m     )\n\u001B[0;32m   5252\u001B[0m \u001B[1;33m\u001B[0m\u001B[0m\n",
      "\u001B[1;31mTypeError\u001B[0m: 'JavaPackage' object is not callable"
     ]
    }
   ]
  },
  {
   "cell_type": "code",
   "source": [
    "sentences = sc.parallelize([\"Hello world\", \"How are you\"])\n",
    "words = sentences.flatMap(lambda x: x.split(\" \"))\n"
   ],
   "metadata": {
    "execution": {
     "iopub.status.busy": "2023-04-25T03:52:10.034910Z",
     "iopub.execute_input": "2023-04-25T03:52:10.035696Z",
     "iopub.status.idle": "2023-04-25T03:52:10.049186Z",
     "shell.execute_reply.started": "2023-04-25T03:52:10.035654Z",
     "shell.execute_reply": "2023-04-25T03:52:10.047710Z"
    },
    "trusted": true,
    "ExecuteTime": {
     "start_time": "2023-04-25T12:21:33.803690Z",
     "end_time": "2023-04-25T12:21:33.824895Z"
    }
   },
   "execution_count": 10,
   "outputs": []
  },
  {
   "cell_type": "code",
   "source": [
    "print(words.collect())"
   ],
   "metadata": {
    "execution": {
     "iopub.status.busy": "2023-04-25T03:52:10.813585Z",
     "iopub.execute_input": "2023-04-25T03:52:10.814818Z",
     "iopub.status.idle": "2023-04-25T03:52:11.007667Z",
     "shell.execute_reply.started": "2023-04-25T03:52:10.814725Z",
     "shell.execute_reply": "2023-04-25T03:52:11.006301Z"
    },
    "trusted": true
   },
   "execution_count": 11,
   "outputs": [
    {
     "ename": "TypeError",
     "evalue": "'JavaPackage' object is not callable",
     "output_type": "error",
     "traceback": [
      "\u001B[1;31m---------------------------------------------------------------------------\u001B[0m",
      "\u001B[1;31mTypeError\u001B[0m                                 Traceback (most recent call last)",
      "\u001B[1;32m~\\AppData\\Local\\Temp\\ipykernel_23496\\2402872357.py\u001B[0m in \u001B[0;36m<module>\u001B[1;34m\u001B[0m\n\u001B[1;32m----> 1\u001B[1;33m \u001B[0mprint\u001B[0m\u001B[1;33m(\u001B[0m\u001B[0mwords\u001B[0m\u001B[1;33m.\u001B[0m\u001B[0mcollect\u001B[0m\u001B[1;33m(\u001B[0m\u001B[1;33m)\u001B[0m\u001B[1;33m)\u001B[0m\u001B[1;33m\u001B[0m\u001B[0m\n\u001B[0m",
      "\u001B[1;32mc:\\users\\aadarsh jha\\pycharmprojects\\spark\\rdd\\venv\\lib\\site-packages\\pyspark\\rdd.py\u001B[0m in \u001B[0;36mcollect\u001B[1;34m(self)\u001B[0m\n\u001B[0;32m   1812\u001B[0m         \u001B[1;32mwith\u001B[0m \u001B[0mSCCallSiteSync\u001B[0m\u001B[1;33m(\u001B[0m\u001B[0mself\u001B[0m\u001B[1;33m.\u001B[0m\u001B[0mcontext\u001B[0m\u001B[1;33m)\u001B[0m\u001B[1;33m:\u001B[0m\u001B[1;33m\u001B[0m\u001B[0m\n\u001B[0;32m   1813\u001B[0m             \u001B[1;32massert\u001B[0m \u001B[0mself\u001B[0m\u001B[1;33m.\u001B[0m\u001B[0mctx\u001B[0m\u001B[1;33m.\u001B[0m\u001B[0m_jvm\u001B[0m \u001B[1;32mis\u001B[0m \u001B[1;32mnot\u001B[0m \u001B[1;32mNone\u001B[0m\u001B[1;33m\u001B[0m\u001B[0m\n\u001B[1;32m-> 1814\u001B[1;33m             \u001B[0msock_info\u001B[0m \u001B[1;33m=\u001B[0m \u001B[0mself\u001B[0m\u001B[1;33m.\u001B[0m\u001B[0mctx\u001B[0m\u001B[1;33m.\u001B[0m\u001B[0m_jvm\u001B[0m\u001B[1;33m.\u001B[0m\u001B[0mPythonRDD\u001B[0m\u001B[1;33m.\u001B[0m\u001B[0mcollectAndServe\u001B[0m\u001B[1;33m(\u001B[0m\u001B[0mself\u001B[0m\u001B[1;33m.\u001B[0m\u001B[0m_jrdd\u001B[0m\u001B[1;33m.\u001B[0m\u001B[0mrdd\u001B[0m\u001B[1;33m(\u001B[0m\u001B[1;33m)\u001B[0m\u001B[1;33m)\u001B[0m\u001B[1;33m\u001B[0m\u001B[0m\n\u001B[0m\u001B[0;32m   1815\u001B[0m         \u001B[1;32mreturn\u001B[0m \u001B[0mlist\u001B[0m\u001B[1;33m(\u001B[0m\u001B[0m_load_from_socket\u001B[0m\u001B[1;33m(\u001B[0m\u001B[0msock_info\u001B[0m\u001B[1;33m,\u001B[0m \u001B[0mself\u001B[0m\u001B[1;33m.\u001B[0m\u001B[0m_jrdd_deserializer\u001B[0m\u001B[1;33m)\u001B[0m\u001B[1;33m)\u001B[0m\u001B[1;33m\u001B[0m\u001B[0m\n\u001B[0;32m   1816\u001B[0m \u001B[1;33m\u001B[0m\u001B[0m\n",
      "\u001B[1;32mc:\\users\\aadarsh jha\\pycharmprojects\\spark\\rdd\\venv\\lib\\site-packages\\pyspark\\rdd.py\u001B[0m in \u001B[0;36m_jrdd\u001B[1;34m(self)\u001B[0m\n\u001B[0;32m   5440\u001B[0m \u001B[1;33m\u001B[0m\u001B[0m\n\u001B[0;32m   5441\u001B[0m         wrapped_func = _wrap_function(\n\u001B[1;32m-> 5442\u001B[1;33m             \u001B[0mself\u001B[0m\u001B[1;33m.\u001B[0m\u001B[0mctx\u001B[0m\u001B[1;33m,\u001B[0m \u001B[0mself\u001B[0m\u001B[1;33m.\u001B[0m\u001B[0mfunc\u001B[0m\u001B[1;33m,\u001B[0m \u001B[0mself\u001B[0m\u001B[1;33m.\u001B[0m\u001B[0m_prev_jrdd_deserializer\u001B[0m\u001B[1;33m,\u001B[0m \u001B[0mself\u001B[0m\u001B[1;33m.\u001B[0m\u001B[0m_jrdd_deserializer\u001B[0m\u001B[1;33m,\u001B[0m \u001B[0mprofiler\u001B[0m\u001B[1;33m\u001B[0m\u001B[0m\n\u001B[0m\u001B[0;32m   5443\u001B[0m         )\n\u001B[0;32m   5444\u001B[0m \u001B[1;33m\u001B[0m\u001B[0m\n",
      "\u001B[1;32mc:\\users\\aadarsh jha\\pycharmprojects\\spark\\rdd\\venv\\lib\\site-packages\\pyspark\\rdd.py\u001B[0m in \u001B[0;36m_wrap_function\u001B[1;34m(sc, func, deserializer, serializer, profiler)\u001B[0m\n\u001B[0;32m   5248\u001B[0m         \u001B[0msc\u001B[0m\u001B[1;33m.\u001B[0m\u001B[0mpythonVer\u001B[0m\u001B[1;33m,\u001B[0m\u001B[1;33m\u001B[0m\u001B[0m\n\u001B[0;32m   5249\u001B[0m         \u001B[0mbroadcast_vars\u001B[0m\u001B[1;33m,\u001B[0m\u001B[1;33m\u001B[0m\u001B[0m\n\u001B[1;32m-> 5250\u001B[1;33m         \u001B[0msc\u001B[0m\u001B[1;33m.\u001B[0m\u001B[0m_javaAccumulator\u001B[0m\u001B[1;33m,\u001B[0m\u001B[1;33m\u001B[0m\u001B[0m\n\u001B[0m\u001B[0;32m   5251\u001B[0m     )\n\u001B[0;32m   5252\u001B[0m \u001B[1;33m\u001B[0m\u001B[0m\n",
      "\u001B[1;31mTypeError\u001B[0m: 'JavaPackage' object is not callable"
     ]
    }
   ]
  },
  {
   "cell_type": "code",
   "source": [
    "tk = sc.parallelize([24,56,74,58,55,51,89,82])\n",
    "print(tk.take(3))"
   ],
   "metadata": {
    "execution": {
     "iopub.status.busy": "2023-04-25T03:52:11.550116Z",
     "iopub.execute_input": "2023-04-25T03:52:11.550608Z",
     "iopub.status.idle": "2023-04-25T03:52:11.845963Z",
     "shell.execute_reply.started": "2023-04-25T03:52:11.550570Z",
     "shell.execute_reply": "2023-04-25T03:52:11.844496Z"
    },
    "trusted": true
   },
   "execution_count": 12,
   "outputs": [
    {
     "ename": "TypeError",
     "evalue": "'JavaPackage' object is not callable",
     "output_type": "error",
     "traceback": [
      "\u001B[1;31m---------------------------------------------------------------------------\u001B[0m",
      "\u001B[1;31mTypeError\u001B[0m                                 Traceback (most recent call last)",
      "\u001B[1;32m~\\AppData\\Local\\Temp\\ipykernel_23496\\1335081825.py\u001B[0m in \u001B[0;36m<module>\u001B[1;34m\u001B[0m\n\u001B[0;32m      1\u001B[0m \u001B[0mtk\u001B[0m \u001B[1;33m=\u001B[0m \u001B[0msc\u001B[0m\u001B[1;33m.\u001B[0m\u001B[0mparallelize\u001B[0m\u001B[1;33m(\u001B[0m\u001B[1;33m[\u001B[0m\u001B[1;36m24\u001B[0m\u001B[1;33m,\u001B[0m\u001B[1;36m56\u001B[0m\u001B[1;33m,\u001B[0m\u001B[1;36m74\u001B[0m\u001B[1;33m,\u001B[0m\u001B[1;36m58\u001B[0m\u001B[1;33m,\u001B[0m\u001B[1;36m55\u001B[0m\u001B[1;33m,\u001B[0m\u001B[1;36m51\u001B[0m\u001B[1;33m,\u001B[0m\u001B[1;36m89\u001B[0m\u001B[1;33m,\u001B[0m\u001B[1;36m82\u001B[0m\u001B[1;33m]\u001B[0m\u001B[1;33m)\u001B[0m\u001B[1;33m\u001B[0m\u001B[0m\n\u001B[1;32m----> 2\u001B[1;33m \u001B[0mprint\u001B[0m\u001B[1;33m(\u001B[0m\u001B[0mtk\u001B[0m\u001B[1;33m.\u001B[0m\u001B[0mtake\u001B[0m\u001B[1;33m(\u001B[0m\u001B[1;36m3\u001B[0m\u001B[1;33m)\u001B[0m\u001B[1;33m)\u001B[0m\u001B[1;33m\u001B[0m\u001B[0m\n\u001B[0m",
      "\u001B[1;32mc:\\users\\aadarsh jha\\pycharmprojects\\spark\\rdd\\venv\\lib\\site-packages\\pyspark\\rdd.py\u001B[0m in \u001B[0;36mtake\u001B[1;34m(self, num)\u001B[0m\n\u001B[0;32m   2834\u001B[0m \u001B[1;33m\u001B[0m\u001B[0m\n\u001B[0;32m   2835\u001B[0m             \u001B[0mp\u001B[0m \u001B[1;33m=\u001B[0m \u001B[0mrange\u001B[0m\u001B[1;33m(\u001B[0m\u001B[0mpartsScanned\u001B[0m\u001B[1;33m,\u001B[0m \u001B[0mmin\u001B[0m\u001B[1;33m(\u001B[0m\u001B[0mpartsScanned\u001B[0m \u001B[1;33m+\u001B[0m \u001B[0mnumPartsToTry\u001B[0m\u001B[1;33m,\u001B[0m \u001B[0mtotalParts\u001B[0m\u001B[1;33m)\u001B[0m\u001B[1;33m)\u001B[0m\u001B[1;33m\u001B[0m\u001B[0m\n\u001B[1;32m-> 2836\u001B[1;33m             \u001B[0mres\u001B[0m \u001B[1;33m=\u001B[0m \u001B[0mself\u001B[0m\u001B[1;33m.\u001B[0m\u001B[0mcontext\u001B[0m\u001B[1;33m.\u001B[0m\u001B[0mrunJob\u001B[0m\u001B[1;33m(\u001B[0m\u001B[0mself\u001B[0m\u001B[1;33m,\u001B[0m \u001B[0mtakeUpToNumLeft\u001B[0m\u001B[1;33m,\u001B[0m \u001B[0mp\u001B[0m\u001B[1;33m)\u001B[0m\u001B[1;33m\u001B[0m\u001B[0m\n\u001B[0m\u001B[0;32m   2837\u001B[0m \u001B[1;33m\u001B[0m\u001B[0m\n\u001B[0;32m   2838\u001B[0m             \u001B[0mitems\u001B[0m \u001B[1;33m+=\u001B[0m \u001B[0mres\u001B[0m\u001B[1;33m\u001B[0m\u001B[0m\n",
      "\u001B[1;32mc:\\users\\aadarsh jha\\pycharmprojects\\spark\\rdd\\venv\\lib\\site-packages\\pyspark\\context.py\u001B[0m in \u001B[0;36mrunJob\u001B[1;34m(self, rdd, partitionFunc, partitions, allowLocal)\u001B[0m\n\u001B[0;32m   2317\u001B[0m         \u001B[0mmappedRDD\u001B[0m \u001B[1;33m=\u001B[0m \u001B[0mrdd\u001B[0m\u001B[1;33m.\u001B[0m\u001B[0mmapPartitions\u001B[0m\u001B[1;33m(\u001B[0m\u001B[0mpartitionFunc\u001B[0m\u001B[1;33m)\u001B[0m\u001B[1;33m\u001B[0m\u001B[0m\n\u001B[0;32m   2318\u001B[0m         \u001B[1;32massert\u001B[0m \u001B[0mself\u001B[0m\u001B[1;33m.\u001B[0m\u001B[0m_jvm\u001B[0m \u001B[1;32mis\u001B[0m \u001B[1;32mnot\u001B[0m \u001B[1;32mNone\u001B[0m\u001B[1;33m\u001B[0m\u001B[0m\n\u001B[1;32m-> 2319\u001B[1;33m         \u001B[0msock_info\u001B[0m \u001B[1;33m=\u001B[0m \u001B[0mself\u001B[0m\u001B[1;33m.\u001B[0m\u001B[0m_jvm\u001B[0m\u001B[1;33m.\u001B[0m\u001B[0mPythonRDD\u001B[0m\u001B[1;33m.\u001B[0m\u001B[0mrunJob\u001B[0m\u001B[1;33m(\u001B[0m\u001B[0mself\u001B[0m\u001B[1;33m.\u001B[0m\u001B[0m_jsc\u001B[0m\u001B[1;33m.\u001B[0m\u001B[0msc\u001B[0m\u001B[1;33m(\u001B[0m\u001B[1;33m)\u001B[0m\u001B[1;33m,\u001B[0m \u001B[0mmappedRDD\u001B[0m\u001B[1;33m.\u001B[0m\u001B[0m_jrdd\u001B[0m\u001B[1;33m,\u001B[0m \u001B[0mpartitions\u001B[0m\u001B[1;33m)\u001B[0m\u001B[1;33m\u001B[0m\u001B[0m\n\u001B[0m\u001B[0;32m   2320\u001B[0m         \u001B[1;32mreturn\u001B[0m \u001B[0mlist\u001B[0m\u001B[1;33m(\u001B[0m\u001B[0m_load_from_socket\u001B[0m\u001B[1;33m(\u001B[0m\u001B[0msock_info\u001B[0m\u001B[1;33m,\u001B[0m \u001B[0mmappedRDD\u001B[0m\u001B[1;33m.\u001B[0m\u001B[0m_jrdd_deserializer\u001B[0m\u001B[1;33m)\u001B[0m\u001B[1;33m)\u001B[0m\u001B[1;33m\u001B[0m\u001B[0m\n\u001B[0;32m   2321\u001B[0m \u001B[1;33m\u001B[0m\u001B[0m\n",
      "\u001B[1;32mc:\\users\\aadarsh jha\\pycharmprojects\\spark\\rdd\\venv\\lib\\site-packages\\pyspark\\rdd.py\u001B[0m in \u001B[0;36m_jrdd\u001B[1;34m(self)\u001B[0m\n\u001B[0;32m   5440\u001B[0m \u001B[1;33m\u001B[0m\u001B[0m\n\u001B[0;32m   5441\u001B[0m         wrapped_func = _wrap_function(\n\u001B[1;32m-> 5442\u001B[1;33m             \u001B[0mself\u001B[0m\u001B[1;33m.\u001B[0m\u001B[0mctx\u001B[0m\u001B[1;33m,\u001B[0m \u001B[0mself\u001B[0m\u001B[1;33m.\u001B[0m\u001B[0mfunc\u001B[0m\u001B[1;33m,\u001B[0m \u001B[0mself\u001B[0m\u001B[1;33m.\u001B[0m\u001B[0m_prev_jrdd_deserializer\u001B[0m\u001B[1;33m,\u001B[0m \u001B[0mself\u001B[0m\u001B[1;33m.\u001B[0m\u001B[0m_jrdd_deserializer\u001B[0m\u001B[1;33m,\u001B[0m \u001B[0mprofiler\u001B[0m\u001B[1;33m\u001B[0m\u001B[0m\n\u001B[0m\u001B[0;32m   5443\u001B[0m         )\n\u001B[0;32m   5444\u001B[0m \u001B[1;33m\u001B[0m\u001B[0m\n",
      "\u001B[1;32mc:\\users\\aadarsh jha\\pycharmprojects\\spark\\rdd\\venv\\lib\\site-packages\\pyspark\\rdd.py\u001B[0m in \u001B[0;36m_wrap_function\u001B[1;34m(sc, func, deserializer, serializer, profiler)\u001B[0m\n\u001B[0;32m   5248\u001B[0m         \u001B[0msc\u001B[0m\u001B[1;33m.\u001B[0m\u001B[0mpythonVer\u001B[0m\u001B[1;33m,\u001B[0m\u001B[1;33m\u001B[0m\u001B[0m\n\u001B[0;32m   5249\u001B[0m         \u001B[0mbroadcast_vars\u001B[0m\u001B[1;33m,\u001B[0m\u001B[1;33m\u001B[0m\u001B[0m\n\u001B[1;32m-> 5250\u001B[1;33m         \u001B[0msc\u001B[0m\u001B[1;33m.\u001B[0m\u001B[0m_javaAccumulator\u001B[0m\u001B[1;33m,\u001B[0m\u001B[1;33m\u001B[0m\u001B[0m\n\u001B[0m\u001B[0;32m   5251\u001B[0m     )\n\u001B[0;32m   5252\u001B[0m \u001B[1;33m\u001B[0m\u001B[0m\n",
      "\u001B[1;31mTypeError\u001B[0m: 'JavaPackage' object is not callable"
     ]
    }
   ]
  },
  {
   "cell_type": "code",
   "source": [
    "tk = sc.parallelize([24,56,74,58,55,51,89,82])\n",
    "print(tk.first())"
   ],
   "metadata": {
    "execution": {
     "iopub.status.busy": "2023-04-25T03:52:12.312275Z",
     "iopub.execute_input": "2023-04-25T03:52:12.312756Z",
     "iopub.status.idle": "2023-04-25T03:52:12.436165Z",
     "shell.execute_reply.started": "2023-04-25T03:52:12.312719Z",
     "shell.execute_reply": "2023-04-25T03:52:12.434864Z"
    },
    "trusted": true
   },
   "execution_count": 13,
   "outputs": [
    {
     "ename": "TypeError",
     "evalue": "'JavaPackage' object is not callable",
     "output_type": "error",
     "traceback": [
      "\u001B[1;31m---------------------------------------------------------------------------\u001B[0m",
      "\u001B[1;31mTypeError\u001B[0m                                 Traceback (most recent call last)",
      "\u001B[1;32m~\\AppData\\Local\\Temp\\ipykernel_23496\\256903662.py\u001B[0m in \u001B[0;36m<module>\u001B[1;34m\u001B[0m\n\u001B[0;32m      1\u001B[0m \u001B[0mtk\u001B[0m \u001B[1;33m=\u001B[0m \u001B[0msc\u001B[0m\u001B[1;33m.\u001B[0m\u001B[0mparallelize\u001B[0m\u001B[1;33m(\u001B[0m\u001B[1;33m[\u001B[0m\u001B[1;36m24\u001B[0m\u001B[1;33m,\u001B[0m\u001B[1;36m56\u001B[0m\u001B[1;33m,\u001B[0m\u001B[1;36m74\u001B[0m\u001B[1;33m,\u001B[0m\u001B[1;36m58\u001B[0m\u001B[1;33m,\u001B[0m\u001B[1;36m55\u001B[0m\u001B[1;33m,\u001B[0m\u001B[1;36m51\u001B[0m\u001B[1;33m,\u001B[0m\u001B[1;36m89\u001B[0m\u001B[1;33m,\u001B[0m\u001B[1;36m82\u001B[0m\u001B[1;33m]\u001B[0m\u001B[1;33m)\u001B[0m\u001B[1;33m\u001B[0m\u001B[0m\n\u001B[1;32m----> 2\u001B[1;33m \u001B[0mprint\u001B[0m\u001B[1;33m(\u001B[0m\u001B[0mtk\u001B[0m\u001B[1;33m.\u001B[0m\u001B[0mfirst\u001B[0m\u001B[1;33m(\u001B[0m\u001B[1;33m)\u001B[0m\u001B[1;33m)\u001B[0m\u001B[1;33m\u001B[0m\u001B[0m\n\u001B[0m",
      "\u001B[1;32mc:\\users\\aadarsh jha\\pycharmprojects\\spark\\rdd\\venv\\lib\\site-packages\\pyspark\\rdd.py\u001B[0m in \u001B[0;36mfirst\u001B[1;34m(self)\u001B[0m\n\u001B[0;32m   2867\u001B[0m         \u001B[0mValueError\u001B[0m\u001B[1;33m:\u001B[0m \u001B[0mRDD\u001B[0m \u001B[1;32mis\u001B[0m \u001B[0mempty\u001B[0m\u001B[1;33m\u001B[0m\u001B[0m\n\u001B[0;32m   2868\u001B[0m         \"\"\"\n\u001B[1;32m-> 2869\u001B[1;33m         \u001B[0mrs\u001B[0m \u001B[1;33m=\u001B[0m \u001B[0mself\u001B[0m\u001B[1;33m.\u001B[0m\u001B[0mtake\u001B[0m\u001B[1;33m(\u001B[0m\u001B[1;36m1\u001B[0m\u001B[1;33m)\u001B[0m\u001B[1;33m\u001B[0m\u001B[0m\n\u001B[0m\u001B[0;32m   2870\u001B[0m         \u001B[1;32mif\u001B[0m \u001B[0mrs\u001B[0m\u001B[1;33m:\u001B[0m\u001B[1;33m\u001B[0m\u001B[0m\n\u001B[0;32m   2871\u001B[0m             \u001B[1;32mreturn\u001B[0m \u001B[0mrs\u001B[0m\u001B[1;33m[\u001B[0m\u001B[1;36m0\u001B[0m\u001B[1;33m]\u001B[0m\u001B[1;33m\u001B[0m\u001B[0m\n",
      "\u001B[1;32mc:\\users\\aadarsh jha\\pycharmprojects\\spark\\rdd\\venv\\lib\\site-packages\\pyspark\\rdd.py\u001B[0m in \u001B[0;36mtake\u001B[1;34m(self, num)\u001B[0m\n\u001B[0;32m   2834\u001B[0m \u001B[1;33m\u001B[0m\u001B[0m\n\u001B[0;32m   2835\u001B[0m             \u001B[0mp\u001B[0m \u001B[1;33m=\u001B[0m \u001B[0mrange\u001B[0m\u001B[1;33m(\u001B[0m\u001B[0mpartsScanned\u001B[0m\u001B[1;33m,\u001B[0m \u001B[0mmin\u001B[0m\u001B[1;33m(\u001B[0m\u001B[0mpartsScanned\u001B[0m \u001B[1;33m+\u001B[0m \u001B[0mnumPartsToTry\u001B[0m\u001B[1;33m,\u001B[0m \u001B[0mtotalParts\u001B[0m\u001B[1;33m)\u001B[0m\u001B[1;33m)\u001B[0m\u001B[1;33m\u001B[0m\u001B[0m\n\u001B[1;32m-> 2836\u001B[1;33m             \u001B[0mres\u001B[0m \u001B[1;33m=\u001B[0m \u001B[0mself\u001B[0m\u001B[1;33m.\u001B[0m\u001B[0mcontext\u001B[0m\u001B[1;33m.\u001B[0m\u001B[0mrunJob\u001B[0m\u001B[1;33m(\u001B[0m\u001B[0mself\u001B[0m\u001B[1;33m,\u001B[0m \u001B[0mtakeUpToNumLeft\u001B[0m\u001B[1;33m,\u001B[0m \u001B[0mp\u001B[0m\u001B[1;33m)\u001B[0m\u001B[1;33m\u001B[0m\u001B[0m\n\u001B[0m\u001B[0;32m   2837\u001B[0m \u001B[1;33m\u001B[0m\u001B[0m\n\u001B[0;32m   2838\u001B[0m             \u001B[0mitems\u001B[0m \u001B[1;33m+=\u001B[0m \u001B[0mres\u001B[0m\u001B[1;33m\u001B[0m\u001B[0m\n",
      "\u001B[1;32mc:\\users\\aadarsh jha\\pycharmprojects\\spark\\rdd\\venv\\lib\\site-packages\\pyspark\\context.py\u001B[0m in \u001B[0;36mrunJob\u001B[1;34m(self, rdd, partitionFunc, partitions, allowLocal)\u001B[0m\n\u001B[0;32m   2317\u001B[0m         \u001B[0mmappedRDD\u001B[0m \u001B[1;33m=\u001B[0m \u001B[0mrdd\u001B[0m\u001B[1;33m.\u001B[0m\u001B[0mmapPartitions\u001B[0m\u001B[1;33m(\u001B[0m\u001B[0mpartitionFunc\u001B[0m\u001B[1;33m)\u001B[0m\u001B[1;33m\u001B[0m\u001B[0m\n\u001B[0;32m   2318\u001B[0m         \u001B[1;32massert\u001B[0m \u001B[0mself\u001B[0m\u001B[1;33m.\u001B[0m\u001B[0m_jvm\u001B[0m \u001B[1;32mis\u001B[0m \u001B[1;32mnot\u001B[0m \u001B[1;32mNone\u001B[0m\u001B[1;33m\u001B[0m\u001B[0m\n\u001B[1;32m-> 2319\u001B[1;33m         \u001B[0msock_info\u001B[0m \u001B[1;33m=\u001B[0m \u001B[0mself\u001B[0m\u001B[1;33m.\u001B[0m\u001B[0m_jvm\u001B[0m\u001B[1;33m.\u001B[0m\u001B[0mPythonRDD\u001B[0m\u001B[1;33m.\u001B[0m\u001B[0mrunJob\u001B[0m\u001B[1;33m(\u001B[0m\u001B[0mself\u001B[0m\u001B[1;33m.\u001B[0m\u001B[0m_jsc\u001B[0m\u001B[1;33m.\u001B[0m\u001B[0msc\u001B[0m\u001B[1;33m(\u001B[0m\u001B[1;33m)\u001B[0m\u001B[1;33m,\u001B[0m \u001B[0mmappedRDD\u001B[0m\u001B[1;33m.\u001B[0m\u001B[0m_jrdd\u001B[0m\u001B[1;33m,\u001B[0m \u001B[0mpartitions\u001B[0m\u001B[1;33m)\u001B[0m\u001B[1;33m\u001B[0m\u001B[0m\n\u001B[0m\u001B[0;32m   2320\u001B[0m         \u001B[1;32mreturn\u001B[0m \u001B[0mlist\u001B[0m\u001B[1;33m(\u001B[0m\u001B[0m_load_from_socket\u001B[0m\u001B[1;33m(\u001B[0m\u001B[0msock_info\u001B[0m\u001B[1;33m,\u001B[0m \u001B[0mmappedRDD\u001B[0m\u001B[1;33m.\u001B[0m\u001B[0m_jrdd_deserializer\u001B[0m\u001B[1;33m)\u001B[0m\u001B[1;33m)\u001B[0m\u001B[1;33m\u001B[0m\u001B[0m\n\u001B[0;32m   2321\u001B[0m \u001B[1;33m\u001B[0m\u001B[0m\n",
      "\u001B[1;32mc:\\users\\aadarsh jha\\pycharmprojects\\spark\\rdd\\venv\\lib\\site-packages\\pyspark\\rdd.py\u001B[0m in \u001B[0;36m_jrdd\u001B[1;34m(self)\u001B[0m\n\u001B[0;32m   5440\u001B[0m \u001B[1;33m\u001B[0m\u001B[0m\n\u001B[0;32m   5441\u001B[0m         wrapped_func = _wrap_function(\n\u001B[1;32m-> 5442\u001B[1;33m             \u001B[0mself\u001B[0m\u001B[1;33m.\u001B[0m\u001B[0mctx\u001B[0m\u001B[1;33m,\u001B[0m \u001B[0mself\u001B[0m\u001B[1;33m.\u001B[0m\u001B[0mfunc\u001B[0m\u001B[1;33m,\u001B[0m \u001B[0mself\u001B[0m\u001B[1;33m.\u001B[0m\u001B[0m_prev_jrdd_deserializer\u001B[0m\u001B[1;33m,\u001B[0m \u001B[0mself\u001B[0m\u001B[1;33m.\u001B[0m\u001B[0m_jrdd_deserializer\u001B[0m\u001B[1;33m,\u001B[0m \u001B[0mprofiler\u001B[0m\u001B[1;33m\u001B[0m\u001B[0m\n\u001B[0m\u001B[0;32m   5443\u001B[0m         )\n\u001B[0;32m   5444\u001B[0m \u001B[1;33m\u001B[0m\u001B[0m\n",
      "\u001B[1;32mc:\\users\\aadarsh jha\\pycharmprojects\\spark\\rdd\\venv\\lib\\site-packages\\pyspark\\rdd.py\u001B[0m in \u001B[0;36m_wrap_function\u001B[1;34m(sc, func, deserializer, serializer, profiler)\u001B[0m\n\u001B[0;32m   5248\u001B[0m         \u001B[0msc\u001B[0m\u001B[1;33m.\u001B[0m\u001B[0mpythonVer\u001B[0m\u001B[1;33m,\u001B[0m\u001B[1;33m\u001B[0m\u001B[0m\n\u001B[0;32m   5249\u001B[0m         \u001B[0mbroadcast_vars\u001B[0m\u001B[1;33m,\u001B[0m\u001B[1;33m\u001B[0m\u001B[0m\n\u001B[1;32m-> 5250\u001B[1;33m         \u001B[0msc\u001B[0m\u001B[1;33m.\u001B[0m\u001B[0m_javaAccumulator\u001B[0m\u001B[1;33m,\u001B[0m\u001B[1;33m\u001B[0m\u001B[0m\n\u001B[0m\u001B[0;32m   5251\u001B[0m     )\n\u001B[0;32m   5252\u001B[0m \u001B[1;33m\u001B[0m\u001B[0m\n",
      "\u001B[1;31mTypeError\u001B[0m: 'JavaPackage' object is not callable"
     ]
    }
   ]
  },
  {
   "cell_type": "code",
   "source": [
    "tk = sc.parallelize([24,56,74,58,55,51,89,82])\n",
    "print(tk.max())"
   ],
   "metadata": {
    "execution": {
     "iopub.status.busy": "2023-04-25T03:52:12.931129Z",
     "iopub.execute_input": "2023-04-25T03:52:12.931526Z",
     "iopub.status.idle": "2023-04-25T03:52:13.100077Z",
     "shell.execute_reply.started": "2023-04-25T03:52:12.931493Z",
     "shell.execute_reply": "2023-04-25T03:52:13.098744Z"
    },
    "trusted": true
   },
   "execution_count": 14,
   "outputs": [
    {
     "ename": "TypeError",
     "evalue": "'JavaPackage' object is not callable",
     "output_type": "error",
     "traceback": [
      "\u001B[1;31m---------------------------------------------------------------------------\u001B[0m",
      "\u001B[1;31mTypeError\u001B[0m                                 Traceback (most recent call last)",
      "\u001B[1;32m~\\AppData\\Local\\Temp\\ipykernel_23496\\3416010389.py\u001B[0m in \u001B[0;36m<module>\u001B[1;34m\u001B[0m\n\u001B[0;32m      1\u001B[0m \u001B[0mtk\u001B[0m \u001B[1;33m=\u001B[0m \u001B[0msc\u001B[0m\u001B[1;33m.\u001B[0m\u001B[0mparallelize\u001B[0m\u001B[1;33m(\u001B[0m\u001B[1;33m[\u001B[0m\u001B[1;36m24\u001B[0m\u001B[1;33m,\u001B[0m\u001B[1;36m56\u001B[0m\u001B[1;33m,\u001B[0m\u001B[1;36m74\u001B[0m\u001B[1;33m,\u001B[0m\u001B[1;36m58\u001B[0m\u001B[1;33m,\u001B[0m\u001B[1;36m55\u001B[0m\u001B[1;33m,\u001B[0m\u001B[1;36m51\u001B[0m\u001B[1;33m,\u001B[0m\u001B[1;36m89\u001B[0m\u001B[1;33m,\u001B[0m\u001B[1;36m82\u001B[0m\u001B[1;33m]\u001B[0m\u001B[1;33m)\u001B[0m\u001B[1;33m\u001B[0m\u001B[0m\n\u001B[1;32m----> 2\u001B[1;33m \u001B[0mprint\u001B[0m\u001B[1;33m(\u001B[0m\u001B[0mtk\u001B[0m\u001B[1;33m.\u001B[0m\u001B[0mmax\u001B[0m\u001B[1;33m(\u001B[0m\u001B[1;33m)\u001B[0m\u001B[1;33m)\u001B[0m\u001B[1;33m\u001B[0m\u001B[0m\n\u001B[0m",
      "\u001B[1;32mc:\\users\\aadarsh jha\\pycharmprojects\\spark\\rdd\\venv\\lib\\site-packages\\pyspark\\rdd.py\u001B[0m in \u001B[0;36mmax\u001B[1;34m(self, key)\u001B[0m\n\u001B[0;32m   2206\u001B[0m         \"\"\"\n\u001B[0;32m   2207\u001B[0m         \u001B[1;32mif\u001B[0m \u001B[0mkey\u001B[0m \u001B[1;32mis\u001B[0m \u001B[1;32mNone\u001B[0m\u001B[1;33m:\u001B[0m\u001B[1;33m\u001B[0m\u001B[0m\n\u001B[1;32m-> 2208\u001B[1;33m             \u001B[1;32mreturn\u001B[0m \u001B[0mself\u001B[0m\u001B[1;33m.\u001B[0m\u001B[0mreduce\u001B[0m\u001B[1;33m(\u001B[0m\u001B[0mmax\u001B[0m\u001B[1;33m)\u001B[0m  \u001B[1;31m# type: ignore[arg-type]\u001B[0m\u001B[1;33m\u001B[0m\u001B[0m\n\u001B[0m\u001B[0;32m   2209\u001B[0m         \u001B[1;32mreturn\u001B[0m \u001B[0mself\u001B[0m\u001B[1;33m.\u001B[0m\u001B[0mreduce\u001B[0m\u001B[1;33m(\u001B[0m\u001B[1;32mlambda\u001B[0m \u001B[0ma\u001B[0m\u001B[1;33m,\u001B[0m \u001B[0mb\u001B[0m\u001B[1;33m:\u001B[0m \u001B[0mmax\u001B[0m\u001B[1;33m(\u001B[0m\u001B[0ma\u001B[0m\u001B[1;33m,\u001B[0m \u001B[0mb\u001B[0m\u001B[1;33m,\u001B[0m \u001B[0mkey\u001B[0m\u001B[1;33m=\u001B[0m\u001B[0mkey\u001B[0m\u001B[1;33m)\u001B[0m\u001B[1;33m)\u001B[0m  \u001B[1;31m# type: ignore[arg-type]\u001B[0m\u001B[1;33m\u001B[0m\u001B[0m\n\u001B[0;32m   2210\u001B[0m \u001B[1;33m\u001B[0m\u001B[0m\n",
      "\u001B[1;32mc:\\users\\aadarsh jha\\pycharmprojects\\spark\\rdd\\venv\\lib\\site-packages\\pyspark\\rdd.py\u001B[0m in \u001B[0;36mreduce\u001B[1;34m(self, f)\u001B[0m\n\u001B[0;32m   1903\u001B[0m             \u001B[1;32myield\u001B[0m \u001B[0mreduce\u001B[0m\u001B[1;33m(\u001B[0m\u001B[0mf\u001B[0m\u001B[1;33m,\u001B[0m \u001B[0miterator\u001B[0m\u001B[1;33m,\u001B[0m \u001B[0minitial\u001B[0m\u001B[1;33m)\u001B[0m\u001B[1;33m\u001B[0m\u001B[0m\n\u001B[0;32m   1904\u001B[0m \u001B[1;33m\u001B[0m\u001B[0m\n\u001B[1;32m-> 1905\u001B[1;33m         \u001B[0mvals\u001B[0m \u001B[1;33m=\u001B[0m \u001B[0mself\u001B[0m\u001B[1;33m.\u001B[0m\u001B[0mmapPartitions\u001B[0m\u001B[1;33m(\u001B[0m\u001B[0mfunc\u001B[0m\u001B[1;33m)\u001B[0m\u001B[1;33m.\u001B[0m\u001B[0mcollect\u001B[0m\u001B[1;33m(\u001B[0m\u001B[1;33m)\u001B[0m\u001B[1;33m\u001B[0m\u001B[0m\n\u001B[0m\u001B[0;32m   1906\u001B[0m         \u001B[1;32mif\u001B[0m \u001B[0mvals\u001B[0m\u001B[1;33m:\u001B[0m\u001B[1;33m\u001B[0m\u001B[0m\n\u001B[0;32m   1907\u001B[0m             \u001B[1;32mreturn\u001B[0m \u001B[0mreduce\u001B[0m\u001B[1;33m(\u001B[0m\u001B[0mf\u001B[0m\u001B[1;33m,\u001B[0m \u001B[0mvals\u001B[0m\u001B[1;33m)\u001B[0m\u001B[1;33m\u001B[0m\u001B[0m\n",
      "\u001B[1;32mc:\\users\\aadarsh jha\\pycharmprojects\\spark\\rdd\\venv\\lib\\site-packages\\pyspark\\rdd.py\u001B[0m in \u001B[0;36mcollect\u001B[1;34m(self)\u001B[0m\n\u001B[0;32m   1812\u001B[0m         \u001B[1;32mwith\u001B[0m \u001B[0mSCCallSiteSync\u001B[0m\u001B[1;33m(\u001B[0m\u001B[0mself\u001B[0m\u001B[1;33m.\u001B[0m\u001B[0mcontext\u001B[0m\u001B[1;33m)\u001B[0m\u001B[1;33m:\u001B[0m\u001B[1;33m\u001B[0m\u001B[0m\n\u001B[0;32m   1813\u001B[0m             \u001B[1;32massert\u001B[0m \u001B[0mself\u001B[0m\u001B[1;33m.\u001B[0m\u001B[0mctx\u001B[0m\u001B[1;33m.\u001B[0m\u001B[0m_jvm\u001B[0m \u001B[1;32mis\u001B[0m \u001B[1;32mnot\u001B[0m \u001B[1;32mNone\u001B[0m\u001B[1;33m\u001B[0m\u001B[0m\n\u001B[1;32m-> 1814\u001B[1;33m             \u001B[0msock_info\u001B[0m \u001B[1;33m=\u001B[0m \u001B[0mself\u001B[0m\u001B[1;33m.\u001B[0m\u001B[0mctx\u001B[0m\u001B[1;33m.\u001B[0m\u001B[0m_jvm\u001B[0m\u001B[1;33m.\u001B[0m\u001B[0mPythonRDD\u001B[0m\u001B[1;33m.\u001B[0m\u001B[0mcollectAndServe\u001B[0m\u001B[1;33m(\u001B[0m\u001B[0mself\u001B[0m\u001B[1;33m.\u001B[0m\u001B[0m_jrdd\u001B[0m\u001B[1;33m.\u001B[0m\u001B[0mrdd\u001B[0m\u001B[1;33m(\u001B[0m\u001B[1;33m)\u001B[0m\u001B[1;33m)\u001B[0m\u001B[1;33m\u001B[0m\u001B[0m\n\u001B[0m\u001B[0;32m   1815\u001B[0m         \u001B[1;32mreturn\u001B[0m \u001B[0mlist\u001B[0m\u001B[1;33m(\u001B[0m\u001B[0m_load_from_socket\u001B[0m\u001B[1;33m(\u001B[0m\u001B[0msock_info\u001B[0m\u001B[1;33m,\u001B[0m \u001B[0mself\u001B[0m\u001B[1;33m.\u001B[0m\u001B[0m_jrdd_deserializer\u001B[0m\u001B[1;33m)\u001B[0m\u001B[1;33m)\u001B[0m\u001B[1;33m\u001B[0m\u001B[0m\n\u001B[0;32m   1816\u001B[0m \u001B[1;33m\u001B[0m\u001B[0m\n",
      "\u001B[1;32mc:\\users\\aadarsh jha\\pycharmprojects\\spark\\rdd\\venv\\lib\\site-packages\\pyspark\\rdd.py\u001B[0m in \u001B[0;36m_jrdd\u001B[1;34m(self)\u001B[0m\n\u001B[0;32m   5440\u001B[0m \u001B[1;33m\u001B[0m\u001B[0m\n\u001B[0;32m   5441\u001B[0m         wrapped_func = _wrap_function(\n\u001B[1;32m-> 5442\u001B[1;33m             \u001B[0mself\u001B[0m\u001B[1;33m.\u001B[0m\u001B[0mctx\u001B[0m\u001B[1;33m,\u001B[0m \u001B[0mself\u001B[0m\u001B[1;33m.\u001B[0m\u001B[0mfunc\u001B[0m\u001B[1;33m,\u001B[0m \u001B[0mself\u001B[0m\u001B[1;33m.\u001B[0m\u001B[0m_prev_jrdd_deserializer\u001B[0m\u001B[1;33m,\u001B[0m \u001B[0mself\u001B[0m\u001B[1;33m.\u001B[0m\u001B[0m_jrdd_deserializer\u001B[0m\u001B[1;33m,\u001B[0m \u001B[0mprofiler\u001B[0m\u001B[1;33m\u001B[0m\u001B[0m\n\u001B[0m\u001B[0;32m   5443\u001B[0m         )\n\u001B[0;32m   5444\u001B[0m \u001B[1;33m\u001B[0m\u001B[0m\n",
      "\u001B[1;32mc:\\users\\aadarsh jha\\pycharmprojects\\spark\\rdd\\venv\\lib\\site-packages\\pyspark\\rdd.py\u001B[0m in \u001B[0;36m_wrap_function\u001B[1;34m(sc, func, deserializer, serializer, profiler)\u001B[0m\n\u001B[0;32m   5248\u001B[0m         \u001B[0msc\u001B[0m\u001B[1;33m.\u001B[0m\u001B[0mpythonVer\u001B[0m\u001B[1;33m,\u001B[0m\u001B[1;33m\u001B[0m\u001B[0m\n\u001B[0;32m   5249\u001B[0m         \u001B[0mbroadcast_vars\u001B[0m\u001B[1;33m,\u001B[0m\u001B[1;33m\u001B[0m\u001B[0m\n\u001B[1;32m-> 5250\u001B[1;33m         \u001B[0msc\u001B[0m\u001B[1;33m.\u001B[0m\u001B[0m_javaAccumulator\u001B[0m\u001B[1;33m,\u001B[0m\u001B[1;33m\u001B[0m\u001B[0m\n\u001B[0m\u001B[0;32m   5251\u001B[0m     )\n\u001B[0;32m   5252\u001B[0m \u001B[1;33m\u001B[0m\u001B[0m\n",
      "\u001B[1;31mTypeError\u001B[0m: 'JavaPackage' object is not callable"
     ]
    }
   ]
  },
  {
   "cell_type": "code",
   "source": [
    "red = sc.parallelize([24,56,74,58,55,51,89,82])\n",
    "print(red.reduce(lambda x,y: x+y ))"
   ],
   "metadata": {
    "execution": {
     "iopub.status.busy": "2023-04-25T03:52:13.776723Z",
     "iopub.execute_input": "2023-04-25T03:52:13.777198Z",
     "iopub.status.idle": "2023-04-25T03:52:13.993078Z",
     "shell.execute_reply.started": "2023-04-25T03:52:13.777160Z",
     "shell.execute_reply": "2023-04-25T03:52:13.991687Z"
    },
    "trusted": true
   },
   "execution_count": 15,
   "outputs": [
    {
     "ename": "TypeError",
     "evalue": "'JavaPackage' object is not callable",
     "output_type": "error",
     "traceback": [
      "\u001B[1;31m---------------------------------------------------------------------------\u001B[0m",
      "\u001B[1;31mTypeError\u001B[0m                                 Traceback (most recent call last)",
      "\u001B[1;32m~\\AppData\\Local\\Temp\\ipykernel_23496\\4036360544.py\u001B[0m in \u001B[0;36m<module>\u001B[1;34m\u001B[0m\n\u001B[0;32m      1\u001B[0m \u001B[0mred\u001B[0m \u001B[1;33m=\u001B[0m \u001B[0msc\u001B[0m\u001B[1;33m.\u001B[0m\u001B[0mparallelize\u001B[0m\u001B[1;33m(\u001B[0m\u001B[1;33m[\u001B[0m\u001B[1;36m24\u001B[0m\u001B[1;33m,\u001B[0m\u001B[1;36m56\u001B[0m\u001B[1;33m,\u001B[0m\u001B[1;36m74\u001B[0m\u001B[1;33m,\u001B[0m\u001B[1;36m58\u001B[0m\u001B[1;33m,\u001B[0m\u001B[1;36m55\u001B[0m\u001B[1;33m,\u001B[0m\u001B[1;36m51\u001B[0m\u001B[1;33m,\u001B[0m\u001B[1;36m89\u001B[0m\u001B[1;33m,\u001B[0m\u001B[1;36m82\u001B[0m\u001B[1;33m]\u001B[0m\u001B[1;33m)\u001B[0m\u001B[1;33m\u001B[0m\u001B[0m\n\u001B[1;32m----> 2\u001B[1;33m \u001B[0mprint\u001B[0m\u001B[1;33m(\u001B[0m\u001B[0mred\u001B[0m\u001B[1;33m.\u001B[0m\u001B[0mreduce\u001B[0m\u001B[1;33m(\u001B[0m\u001B[1;32mlambda\u001B[0m \u001B[0mx\u001B[0m\u001B[1;33m,\u001B[0m\u001B[0my\u001B[0m\u001B[1;33m:\u001B[0m \u001B[0mx\u001B[0m\u001B[1;33m+\u001B[0m\u001B[0my\u001B[0m \u001B[1;33m)\u001B[0m\u001B[1;33m)\u001B[0m\u001B[1;33m\u001B[0m\u001B[0m\n\u001B[0m",
      "\u001B[1;32mc:\\users\\aadarsh jha\\pycharmprojects\\spark\\rdd\\venv\\lib\\site-packages\\pyspark\\rdd.py\u001B[0m in \u001B[0;36mreduce\u001B[1;34m(self, f)\u001B[0m\n\u001B[0;32m   1903\u001B[0m             \u001B[1;32myield\u001B[0m \u001B[0mreduce\u001B[0m\u001B[1;33m(\u001B[0m\u001B[0mf\u001B[0m\u001B[1;33m,\u001B[0m \u001B[0miterator\u001B[0m\u001B[1;33m,\u001B[0m \u001B[0minitial\u001B[0m\u001B[1;33m)\u001B[0m\u001B[1;33m\u001B[0m\u001B[0m\n\u001B[0;32m   1904\u001B[0m \u001B[1;33m\u001B[0m\u001B[0m\n\u001B[1;32m-> 1905\u001B[1;33m         \u001B[0mvals\u001B[0m \u001B[1;33m=\u001B[0m \u001B[0mself\u001B[0m\u001B[1;33m.\u001B[0m\u001B[0mmapPartitions\u001B[0m\u001B[1;33m(\u001B[0m\u001B[0mfunc\u001B[0m\u001B[1;33m)\u001B[0m\u001B[1;33m.\u001B[0m\u001B[0mcollect\u001B[0m\u001B[1;33m(\u001B[0m\u001B[1;33m)\u001B[0m\u001B[1;33m\u001B[0m\u001B[0m\n\u001B[0m\u001B[0;32m   1906\u001B[0m         \u001B[1;32mif\u001B[0m \u001B[0mvals\u001B[0m\u001B[1;33m:\u001B[0m\u001B[1;33m\u001B[0m\u001B[0m\n\u001B[0;32m   1907\u001B[0m             \u001B[1;32mreturn\u001B[0m \u001B[0mreduce\u001B[0m\u001B[1;33m(\u001B[0m\u001B[0mf\u001B[0m\u001B[1;33m,\u001B[0m \u001B[0mvals\u001B[0m\u001B[1;33m)\u001B[0m\u001B[1;33m\u001B[0m\u001B[0m\n",
      "\u001B[1;32mc:\\users\\aadarsh jha\\pycharmprojects\\spark\\rdd\\venv\\lib\\site-packages\\pyspark\\rdd.py\u001B[0m in \u001B[0;36mcollect\u001B[1;34m(self)\u001B[0m\n\u001B[0;32m   1812\u001B[0m         \u001B[1;32mwith\u001B[0m \u001B[0mSCCallSiteSync\u001B[0m\u001B[1;33m(\u001B[0m\u001B[0mself\u001B[0m\u001B[1;33m.\u001B[0m\u001B[0mcontext\u001B[0m\u001B[1;33m)\u001B[0m\u001B[1;33m:\u001B[0m\u001B[1;33m\u001B[0m\u001B[0m\n\u001B[0;32m   1813\u001B[0m             \u001B[1;32massert\u001B[0m \u001B[0mself\u001B[0m\u001B[1;33m.\u001B[0m\u001B[0mctx\u001B[0m\u001B[1;33m.\u001B[0m\u001B[0m_jvm\u001B[0m \u001B[1;32mis\u001B[0m \u001B[1;32mnot\u001B[0m \u001B[1;32mNone\u001B[0m\u001B[1;33m\u001B[0m\u001B[0m\n\u001B[1;32m-> 1814\u001B[1;33m             \u001B[0msock_info\u001B[0m \u001B[1;33m=\u001B[0m \u001B[0mself\u001B[0m\u001B[1;33m.\u001B[0m\u001B[0mctx\u001B[0m\u001B[1;33m.\u001B[0m\u001B[0m_jvm\u001B[0m\u001B[1;33m.\u001B[0m\u001B[0mPythonRDD\u001B[0m\u001B[1;33m.\u001B[0m\u001B[0mcollectAndServe\u001B[0m\u001B[1;33m(\u001B[0m\u001B[0mself\u001B[0m\u001B[1;33m.\u001B[0m\u001B[0m_jrdd\u001B[0m\u001B[1;33m.\u001B[0m\u001B[0mrdd\u001B[0m\u001B[1;33m(\u001B[0m\u001B[1;33m)\u001B[0m\u001B[1;33m)\u001B[0m\u001B[1;33m\u001B[0m\u001B[0m\n\u001B[0m\u001B[0;32m   1815\u001B[0m         \u001B[1;32mreturn\u001B[0m \u001B[0mlist\u001B[0m\u001B[1;33m(\u001B[0m\u001B[0m_load_from_socket\u001B[0m\u001B[1;33m(\u001B[0m\u001B[0msock_info\u001B[0m\u001B[1;33m,\u001B[0m \u001B[0mself\u001B[0m\u001B[1;33m.\u001B[0m\u001B[0m_jrdd_deserializer\u001B[0m\u001B[1;33m)\u001B[0m\u001B[1;33m)\u001B[0m\u001B[1;33m\u001B[0m\u001B[0m\n\u001B[0;32m   1816\u001B[0m \u001B[1;33m\u001B[0m\u001B[0m\n",
      "\u001B[1;32mc:\\users\\aadarsh jha\\pycharmprojects\\spark\\rdd\\venv\\lib\\site-packages\\pyspark\\rdd.py\u001B[0m in \u001B[0;36m_jrdd\u001B[1;34m(self)\u001B[0m\n\u001B[0;32m   5440\u001B[0m \u001B[1;33m\u001B[0m\u001B[0m\n\u001B[0;32m   5441\u001B[0m         wrapped_func = _wrap_function(\n\u001B[1;32m-> 5442\u001B[1;33m             \u001B[0mself\u001B[0m\u001B[1;33m.\u001B[0m\u001B[0mctx\u001B[0m\u001B[1;33m,\u001B[0m \u001B[0mself\u001B[0m\u001B[1;33m.\u001B[0m\u001B[0mfunc\u001B[0m\u001B[1;33m,\u001B[0m \u001B[0mself\u001B[0m\u001B[1;33m.\u001B[0m\u001B[0m_prev_jrdd_deserializer\u001B[0m\u001B[1;33m,\u001B[0m \u001B[0mself\u001B[0m\u001B[1;33m.\u001B[0m\u001B[0m_jrdd_deserializer\u001B[0m\u001B[1;33m,\u001B[0m \u001B[0mprofiler\u001B[0m\u001B[1;33m\u001B[0m\u001B[0m\n\u001B[0m\u001B[0;32m   5443\u001B[0m         )\n\u001B[0;32m   5444\u001B[0m \u001B[1;33m\u001B[0m\u001B[0m\n",
      "\u001B[1;32mc:\\users\\aadarsh jha\\pycharmprojects\\spark\\rdd\\venv\\lib\\site-packages\\pyspark\\rdd.py\u001B[0m in \u001B[0;36m_wrap_function\u001B[1;34m(sc, func, deserializer, serializer, profiler)\u001B[0m\n\u001B[0;32m   5248\u001B[0m         \u001B[0msc\u001B[0m\u001B[1;33m.\u001B[0m\u001B[0mpythonVer\u001B[0m\u001B[1;33m,\u001B[0m\u001B[1;33m\u001B[0m\u001B[0m\n\u001B[0;32m   5249\u001B[0m         \u001B[0mbroadcast_vars\u001B[0m\u001B[1;33m,\u001B[0m\u001B[1;33m\u001B[0m\u001B[0m\n\u001B[1;32m-> 5250\u001B[1;33m         \u001B[0msc\u001B[0m\u001B[1;33m.\u001B[0m\u001B[0m_javaAccumulator\u001B[0m\u001B[1;33m,\u001B[0m\u001B[1;33m\u001B[0m\u001B[0m\n\u001B[0m\u001B[0;32m   5251\u001B[0m     )\n\u001B[0;32m   5252\u001B[0m \u001B[1;33m\u001B[0m\u001B[0m\n",
      "\u001B[1;31mTypeError\u001B[0m: 'JavaPackage' object is not callable"
     ]
    }
   ]
  },
  {
   "cell_type": "code",
   "source": [
    "r_key = sc.parallelize([('a',5),('b',4),('a',1),('b',9),],)"
   ],
   "metadata": {
    "execution": {
     "iopub.status.busy": "2023-04-25T03:52:14.742020Z",
     "iopub.execute_input": "2023-04-25T03:52:14.742585Z",
     "iopub.status.idle": "2023-04-25T03:52:14.756148Z",
     "shell.execute_reply.started": "2023-04-25T03:52:14.742542Z",
     "shell.execute_reply": "2023-04-25T03:52:14.754399Z"
    },
    "trusted": true,
    "ExecuteTime": {
     "start_time": "2023-04-25T12:21:38.207679Z",
     "end_time": "2023-04-25T12:21:38.229222Z"
    }
   },
   "execution_count": 16,
   "outputs": []
  },
  {
   "cell_type": "code",
   "source": [
    "r_key.reduceByKey(lambda x,y :x+y).collect()"
   ],
   "metadata": {
    "execution": {
     "iopub.status.busy": "2023-04-25T03:52:15.679273Z",
     "iopub.execute_input": "2023-04-25T03:52:15.679678Z",
     "iopub.status.idle": "2023-04-25T03:52:16.700875Z",
     "shell.execute_reply.started": "2023-04-25T03:52:15.679645Z",
     "shell.execute_reply": "2023-04-25T03:52:16.699548Z"
    },
    "trusted": true
   },
   "execution_count": 17,
   "outputs": [
    {
     "ename": "TypeError",
     "evalue": "'JavaPackage' object is not callable",
     "output_type": "error",
     "traceback": [
      "\u001B[1;31m---------------------------------------------------------------------------\u001B[0m",
      "\u001B[1;31mTypeError\u001B[0m                                 Traceback (most recent call last)",
      "\u001B[1;32m~\\AppData\\Local\\Temp\\ipykernel_23496\\1996335192.py\u001B[0m in \u001B[0;36m<module>\u001B[1;34m\u001B[0m\n\u001B[1;32m----> 1\u001B[1;33m \u001B[0mr_key\u001B[0m\u001B[1;33m.\u001B[0m\u001B[0mreduceByKey\u001B[0m\u001B[1;33m(\u001B[0m\u001B[1;32mlambda\u001B[0m \u001B[0mx\u001B[0m\u001B[1;33m,\u001B[0m\u001B[0my\u001B[0m \u001B[1;33m:\u001B[0m\u001B[0mx\u001B[0m\u001B[1;33m+\u001B[0m\u001B[0my\u001B[0m\u001B[1;33m)\u001B[0m\u001B[1;33m.\u001B[0m\u001B[0mcollect\u001B[0m\u001B[1;33m(\u001B[0m\u001B[1;33m)\u001B[0m\u001B[1;33m\u001B[0m\u001B[0m\n\u001B[0m",
      "\u001B[1;32mc:\\users\\aadarsh jha\\pycharmprojects\\spark\\rdd\\venv\\lib\\site-packages\\pyspark\\rdd.py\u001B[0m in \u001B[0;36mreduceByKey\u001B[1;34m(self, func, numPartitions, partitionFunc)\u001B[0m\n\u001B[0;32m   3531\u001B[0m         \u001B[1;33m[\u001B[0m\u001B[1;33m(\u001B[0m\u001B[1;34m'a'\u001B[0m\u001B[1;33m,\u001B[0m \u001B[1;36m2\u001B[0m\u001B[1;33m)\u001B[0m\u001B[1;33m,\u001B[0m \u001B[1;33m(\u001B[0m\u001B[1;34m'b'\u001B[0m\u001B[1;33m,\u001B[0m \u001B[1;36m1\u001B[0m\u001B[1;33m)\u001B[0m\u001B[1;33m]\u001B[0m\u001B[1;33m\u001B[0m\u001B[0m\n\u001B[0;32m   3532\u001B[0m         \"\"\"\n\u001B[1;32m-> 3533\u001B[1;33m         \u001B[1;32mreturn\u001B[0m \u001B[0mself\u001B[0m\u001B[1;33m.\u001B[0m\u001B[0mcombineByKey\u001B[0m\u001B[1;33m(\u001B[0m\u001B[1;32mlambda\u001B[0m \u001B[0mx\u001B[0m\u001B[1;33m:\u001B[0m \u001B[0mx\u001B[0m\u001B[1;33m,\u001B[0m \u001B[0mfunc\u001B[0m\u001B[1;33m,\u001B[0m \u001B[0mfunc\u001B[0m\u001B[1;33m,\u001B[0m \u001B[0mnumPartitions\u001B[0m\u001B[1;33m,\u001B[0m \u001B[0mpartitionFunc\u001B[0m\u001B[1;33m)\u001B[0m\u001B[1;33m\u001B[0m\u001B[0m\n\u001B[0m\u001B[0;32m   3534\u001B[0m \u001B[1;33m\u001B[0m\u001B[0m\n\u001B[0;32m   3535\u001B[0m     \u001B[1;32mdef\u001B[0m \u001B[0mreduceByKeyLocally\u001B[0m\u001B[1;33m(\u001B[0m\u001B[0mself\u001B[0m\u001B[1;33m:\u001B[0m \u001B[1;34m\"RDD[Tuple[K, V]]\"\u001B[0m\u001B[1;33m,\u001B[0m \u001B[0mfunc\u001B[0m\u001B[1;33m:\u001B[0m \u001B[0mCallable\u001B[0m\u001B[1;33m[\u001B[0m\u001B[1;33m[\u001B[0m\u001B[0mV\u001B[0m\u001B[1;33m,\u001B[0m \u001B[0mV\u001B[0m\u001B[1;33m]\u001B[0m\u001B[1;33m,\u001B[0m \u001B[0mV\u001B[0m\u001B[1;33m]\u001B[0m\u001B[1;33m)\u001B[0m \u001B[1;33m->\u001B[0m \u001B[0mDict\u001B[0m\u001B[1;33m[\u001B[0m\u001B[0mK\u001B[0m\u001B[1;33m,\u001B[0m \u001B[0mV\u001B[0m\u001B[1;33m]\u001B[0m\u001B[1;33m:\u001B[0m\u001B[1;33m\u001B[0m\u001B[0m\n",
      "\u001B[1;32mc:\\users\\aadarsh jha\\pycharmprojects\\spark\\rdd\\venv\\lib\\site-packages\\pyspark\\rdd.py\u001B[0m in \u001B[0;36mcombineByKey\u001B[1;34m(self, createCombiner, mergeValue, mergeCombiners, numPartitions, partitionFunc)\u001B[0m\n\u001B[0;32m   3966\u001B[0m \u001B[1;33m\u001B[0m\u001B[0m\n\u001B[0;32m   3967\u001B[0m         \u001B[0mlocally_combined\u001B[0m \u001B[1;33m=\u001B[0m \u001B[0mself\u001B[0m\u001B[1;33m.\u001B[0m\u001B[0mmapPartitions\u001B[0m\u001B[1;33m(\u001B[0m\u001B[0mcombineLocally\u001B[0m\u001B[1;33m,\u001B[0m \u001B[0mpreservesPartitioning\u001B[0m\u001B[1;33m=\u001B[0m\u001B[1;32mTrue\u001B[0m\u001B[1;33m)\u001B[0m\u001B[1;33m\u001B[0m\u001B[0m\n\u001B[1;32m-> 3968\u001B[1;33m         \u001B[0mshuffled\u001B[0m \u001B[1;33m=\u001B[0m \u001B[0mlocally_combined\u001B[0m\u001B[1;33m.\u001B[0m\u001B[0mpartitionBy\u001B[0m\u001B[1;33m(\u001B[0m\u001B[0mnumPartitions\u001B[0m\u001B[1;33m,\u001B[0m \u001B[0mpartitionFunc\u001B[0m\u001B[1;33m)\u001B[0m\u001B[1;33m\u001B[0m\u001B[0m\n\u001B[0m\u001B[0;32m   3969\u001B[0m \u001B[1;33m\u001B[0m\u001B[0m\n\u001B[0;32m   3970\u001B[0m         \u001B[1;32mdef\u001B[0m \u001B[0m_mergeCombiners\u001B[0m\u001B[1;33m(\u001B[0m\u001B[0miterator\u001B[0m\u001B[1;33m:\u001B[0m \u001B[0mIterable\u001B[0m\u001B[1;33m[\u001B[0m\u001B[0mTuple\u001B[0m\u001B[1;33m[\u001B[0m\u001B[0mK\u001B[0m\u001B[1;33m,\u001B[0m \u001B[0mU\u001B[0m\u001B[1;33m]\u001B[0m\u001B[1;33m]\u001B[0m\u001B[1;33m)\u001B[0m \u001B[1;33m->\u001B[0m \u001B[0mIterable\u001B[0m\u001B[1;33m[\u001B[0m\u001B[0mTuple\u001B[0m\u001B[1;33m[\u001B[0m\u001B[0mK\u001B[0m\u001B[1;33m,\u001B[0m \u001B[0mU\u001B[0m\u001B[1;33m]\u001B[0m\u001B[1;33m]\u001B[0m\u001B[1;33m:\u001B[0m\u001B[1;33m\u001B[0m\u001B[0m\n",
      "\u001B[1;32mc:\\users\\aadarsh jha\\pycharmprojects\\spark\\rdd\\venv\\lib\\site-packages\\pyspark\\rdd.py\u001B[0m in \u001B[0;36mpartitionBy\u001B[1;34m(self, numPartitions, partitionFunc)\u001B[0m\n\u001B[0;32m   3876\u001B[0m \u001B[1;33m\u001B[0m\u001B[0m\n\u001B[0;32m   3877\u001B[0m         \u001B[1;32mwith\u001B[0m \u001B[0mSCCallSiteSync\u001B[0m\u001B[1;33m(\u001B[0m\u001B[0mself\u001B[0m\u001B[1;33m.\u001B[0m\u001B[0mcontext\u001B[0m\u001B[1;33m)\u001B[0m\u001B[1;33m:\u001B[0m\u001B[1;33m\u001B[0m\u001B[0m\n\u001B[1;32m-> 3878\u001B[1;33m             \u001B[0mpairRDD\u001B[0m \u001B[1;33m=\u001B[0m \u001B[0mself\u001B[0m\u001B[1;33m.\u001B[0m\u001B[0mctx\u001B[0m\u001B[1;33m.\u001B[0m\u001B[0m_jvm\u001B[0m\u001B[1;33m.\u001B[0m\u001B[0mPairwiseRDD\u001B[0m\u001B[1;33m(\u001B[0m\u001B[0mkeyed\u001B[0m\u001B[1;33m.\u001B[0m\u001B[0m_jrdd\u001B[0m\u001B[1;33m.\u001B[0m\u001B[0mrdd\u001B[0m\u001B[1;33m(\u001B[0m\u001B[1;33m)\u001B[0m\u001B[1;33m)\u001B[0m\u001B[1;33m.\u001B[0m\u001B[0masJavaPairRDD\u001B[0m\u001B[1;33m(\u001B[0m\u001B[1;33m)\u001B[0m\u001B[1;33m\u001B[0m\u001B[0m\n\u001B[0m\u001B[0;32m   3879\u001B[0m             \u001B[0mjpartitioner\u001B[0m \u001B[1;33m=\u001B[0m \u001B[0mself\u001B[0m\u001B[1;33m.\u001B[0m\u001B[0mctx\u001B[0m\u001B[1;33m.\u001B[0m\u001B[0m_jvm\u001B[0m\u001B[1;33m.\u001B[0m\u001B[0mPythonPartitioner\u001B[0m\u001B[1;33m(\u001B[0m\u001B[0mnumPartitions\u001B[0m\u001B[1;33m,\u001B[0m \u001B[0mid\u001B[0m\u001B[1;33m(\u001B[0m\u001B[0mpartitionFunc\u001B[0m\u001B[1;33m)\u001B[0m\u001B[1;33m)\u001B[0m\u001B[1;33m\u001B[0m\u001B[0m\n\u001B[0;32m   3880\u001B[0m         \u001B[0mjrdd\u001B[0m \u001B[1;33m=\u001B[0m \u001B[0mself\u001B[0m\u001B[1;33m.\u001B[0m\u001B[0mctx\u001B[0m\u001B[1;33m.\u001B[0m\u001B[0m_jvm\u001B[0m\u001B[1;33m.\u001B[0m\u001B[0mPythonRDD\u001B[0m\u001B[1;33m.\u001B[0m\u001B[0mvalueOfPair\u001B[0m\u001B[1;33m(\u001B[0m\u001B[0mpairRDD\u001B[0m\u001B[1;33m.\u001B[0m\u001B[0mpartitionBy\u001B[0m\u001B[1;33m(\u001B[0m\u001B[0mjpartitioner\u001B[0m\u001B[1;33m)\u001B[0m\u001B[1;33m)\u001B[0m\u001B[1;33m\u001B[0m\u001B[0m\n",
      "\u001B[1;32mc:\\users\\aadarsh jha\\pycharmprojects\\spark\\rdd\\venv\\lib\\site-packages\\pyspark\\rdd.py\u001B[0m in \u001B[0;36m_jrdd\u001B[1;34m(self)\u001B[0m\n\u001B[0;32m   5440\u001B[0m \u001B[1;33m\u001B[0m\u001B[0m\n\u001B[0;32m   5441\u001B[0m         wrapped_func = _wrap_function(\n\u001B[1;32m-> 5442\u001B[1;33m             \u001B[0mself\u001B[0m\u001B[1;33m.\u001B[0m\u001B[0mctx\u001B[0m\u001B[1;33m,\u001B[0m \u001B[0mself\u001B[0m\u001B[1;33m.\u001B[0m\u001B[0mfunc\u001B[0m\u001B[1;33m,\u001B[0m \u001B[0mself\u001B[0m\u001B[1;33m.\u001B[0m\u001B[0m_prev_jrdd_deserializer\u001B[0m\u001B[1;33m,\u001B[0m \u001B[0mself\u001B[0m\u001B[1;33m.\u001B[0m\u001B[0m_jrdd_deserializer\u001B[0m\u001B[1;33m,\u001B[0m \u001B[0mprofiler\u001B[0m\u001B[1;33m\u001B[0m\u001B[0m\n\u001B[0m\u001B[0;32m   5443\u001B[0m         )\n\u001B[0;32m   5444\u001B[0m \u001B[1;33m\u001B[0m\u001B[0m\n",
      "\u001B[1;32mc:\\users\\aadarsh jha\\pycharmprojects\\spark\\rdd\\venv\\lib\\site-packages\\pyspark\\rdd.py\u001B[0m in \u001B[0;36m_wrap_function\u001B[1;34m(sc, func, deserializer, serializer, profiler)\u001B[0m\n\u001B[0;32m   5248\u001B[0m         \u001B[0msc\u001B[0m\u001B[1;33m.\u001B[0m\u001B[0mpythonVer\u001B[0m\u001B[1;33m,\u001B[0m\u001B[1;33m\u001B[0m\u001B[0m\n\u001B[0;32m   5249\u001B[0m         \u001B[0mbroadcast_vars\u001B[0m\u001B[1;33m,\u001B[0m\u001B[1;33m\u001B[0m\u001B[0m\n\u001B[1;32m-> 5250\u001B[1;33m         \u001B[0msc\u001B[0m\u001B[1;33m.\u001B[0m\u001B[0m_javaAccumulator\u001B[0m\u001B[1;33m,\u001B[0m\u001B[1;33m\u001B[0m\u001B[0m\n\u001B[0m\u001B[0;32m   5251\u001B[0m     )\n\u001B[0;32m   5252\u001B[0m \u001B[1;33m\u001B[0m\u001B[0m\n",
      "\u001B[1;31mTypeError\u001B[0m: 'JavaPackage' object is not callable"
     ]
    }
   ]
  },
  {
   "cell_type": "code",
   "source": [
    "data = [('James','','Smith','1991-04-01','M',3000),\n",
    "  ('Michael','Rose','','2000-05-19','M',4000),\n",
    "  ('Robert','','Williams','1978-09-05','M',4000),\n",
    "  ('Maria','Anne','Jones','1967-12-01','F',4000),\n",
    "  ('Jen','Mary','Brown','1980-02-17','F',5000)\n",
    "]\n",
    "\n",
    "columns = [\"firstname\",\"middlename\",\"lastname\",\"dob\",\"gender\",\"salary\"]\n",
    "df = spark.createDataFrame(data=data, schema = columns)"
   ],
   "metadata": {
    "execution": {
     "iopub.status.busy": "2023-04-25T03:59:44.031603Z",
     "iopub.execute_input": "2023-04-25T03:59:44.032205Z",
     "iopub.status.idle": "2023-04-25T03:59:44.085621Z",
     "shell.execute_reply.started": "2023-04-25T03:59:44.032162Z",
     "shell.execute_reply": "2023-04-25T03:59:44.084611Z"
    },
    "trusted": true
   },
   "execution_count": 20,
   "outputs": [
    {
     "ename": "Py4JError",
     "evalue": "An error occurred while calling o61.legacyInferArrayTypeFromFirstElement. Trace:\npy4j.Py4JException: Method legacyInferArrayTypeFromFirstElement([]) does not exist\r\n\tat py4j.reflection.ReflectionEngine.getMethod(ReflectionEngine.java:318)\r\n\tat py4j.reflection.ReflectionEngine.getMethod(ReflectionEngine.java:326)\r\n\tat py4j.Gateway.invoke(Gateway.java:274)\r\n\tat py4j.commands.AbstractCommand.invokeMethod(AbstractCommand.java:132)\r\n\tat py4j.commands.CallCommand.execute(CallCommand.java:79)\r\n\tat py4j.ClientServerConnection.waitForCommands(ClientServerConnection.java:182)\r\n\tat py4j.ClientServerConnection.run(ClientServerConnection.java:106)\r\n\tat java.base/java.lang.Thread.run(Thread.java:834)\r\n\n",
     "output_type": "error",
     "traceback": [
      "\u001B[1;31m---------------------------------------------------------------------------\u001B[0m",
      "\u001B[1;31mPy4JError\u001B[0m                                 Traceback (most recent call last)",
      "\u001B[1;32m~\\AppData\\Local\\Temp\\ipykernel_23496\\2548788756.py\u001B[0m in \u001B[0;36m<module>\u001B[1;34m\u001B[0m\n\u001B[0;32m      7\u001B[0m \u001B[1;33m\u001B[0m\u001B[0m\n\u001B[0;32m      8\u001B[0m \u001B[0mcolumns\u001B[0m \u001B[1;33m=\u001B[0m \u001B[1;33m[\u001B[0m\u001B[1;34m\"firstname\"\u001B[0m\u001B[1;33m,\u001B[0m\u001B[1;34m\"middlename\"\u001B[0m\u001B[1;33m,\u001B[0m\u001B[1;34m\"lastname\"\u001B[0m\u001B[1;33m,\u001B[0m\u001B[1;34m\"dob\"\u001B[0m\u001B[1;33m,\u001B[0m\u001B[1;34m\"gender\"\u001B[0m\u001B[1;33m,\u001B[0m\u001B[1;34m\"salary\"\u001B[0m\u001B[1;33m]\u001B[0m\u001B[1;33m\u001B[0m\u001B[0m\n\u001B[1;32m----> 9\u001B[1;33m \u001B[0mdf\u001B[0m \u001B[1;33m=\u001B[0m \u001B[0mspark\u001B[0m\u001B[1;33m.\u001B[0m\u001B[0mcreateDataFrame\u001B[0m\u001B[1;33m(\u001B[0m\u001B[0mdata\u001B[0m\u001B[1;33m=\u001B[0m\u001B[0mdata\u001B[0m\u001B[1;33m,\u001B[0m \u001B[0mschema\u001B[0m \u001B[1;33m=\u001B[0m \u001B[0mcolumns\u001B[0m\u001B[1;33m)\u001B[0m\u001B[1;33m\u001B[0m\u001B[0m\n\u001B[0m",
      "\u001B[1;32mc:\\users\\aadarsh jha\\pycharmprojects\\spark\\rdd\\venv\\lib\\site-packages\\pyspark\\sql\\session.py\u001B[0m in \u001B[0;36mcreateDataFrame\u001B[1;34m(self, data, schema, samplingRatio, verifySchema)\u001B[0m\n\u001B[0;32m   1275\u001B[0m             )\n\u001B[0;32m   1276\u001B[0m         return self._create_dataframe(\n\u001B[1;32m-> 1277\u001B[1;33m             \u001B[0mdata\u001B[0m\u001B[1;33m,\u001B[0m \u001B[0mschema\u001B[0m\u001B[1;33m,\u001B[0m \u001B[0msamplingRatio\u001B[0m\u001B[1;33m,\u001B[0m \u001B[0mverifySchema\u001B[0m  \u001B[1;31m# type: ignore[arg-type]\u001B[0m\u001B[1;33m\u001B[0m\u001B[0m\n\u001B[0m\u001B[0;32m   1278\u001B[0m         )\n\u001B[0;32m   1279\u001B[0m \u001B[1;33m\u001B[0m\u001B[0m\n",
      "\u001B[1;32mc:\\users\\aadarsh jha\\pycharmprojects\\spark\\rdd\\venv\\lib\\site-packages\\pyspark\\sql\\session.py\u001B[0m in \u001B[0;36m_create_dataframe\u001B[1;34m(self, data, schema, samplingRatio, verifySchema)\u001B[0m\n\u001B[0;32m   1316\u001B[0m             \u001B[0mrdd\u001B[0m\u001B[1;33m,\u001B[0m \u001B[0mstruct\u001B[0m \u001B[1;33m=\u001B[0m \u001B[0mself\u001B[0m\u001B[1;33m.\u001B[0m\u001B[0m_createFromRDD\u001B[0m\u001B[1;33m(\u001B[0m\u001B[0mdata\u001B[0m\u001B[1;33m.\u001B[0m\u001B[0mmap\u001B[0m\u001B[1;33m(\u001B[0m\u001B[0mprepare\u001B[0m\u001B[1;33m)\u001B[0m\u001B[1;33m,\u001B[0m \u001B[0mschema\u001B[0m\u001B[1;33m,\u001B[0m \u001B[0msamplingRatio\u001B[0m\u001B[1;33m)\u001B[0m\u001B[1;33m\u001B[0m\u001B[0m\n\u001B[0;32m   1317\u001B[0m         \u001B[1;32melse\u001B[0m\u001B[1;33m:\u001B[0m\u001B[1;33m\u001B[0m\u001B[0m\n\u001B[1;32m-> 1318\u001B[1;33m             \u001B[0mrdd\u001B[0m\u001B[1;33m,\u001B[0m \u001B[0mstruct\u001B[0m \u001B[1;33m=\u001B[0m \u001B[0mself\u001B[0m\u001B[1;33m.\u001B[0m\u001B[0m_createFromLocal\u001B[0m\u001B[1;33m(\u001B[0m\u001B[0mmap\u001B[0m\u001B[1;33m(\u001B[0m\u001B[0mprepare\u001B[0m\u001B[1;33m,\u001B[0m \u001B[0mdata\u001B[0m\u001B[1;33m)\u001B[0m\u001B[1;33m,\u001B[0m \u001B[0mschema\u001B[0m\u001B[1;33m)\u001B[0m\u001B[1;33m\u001B[0m\u001B[0m\n\u001B[0m\u001B[0;32m   1319\u001B[0m         \u001B[1;32massert\u001B[0m \u001B[0mself\u001B[0m\u001B[1;33m.\u001B[0m\u001B[0m_jvm\u001B[0m \u001B[1;32mis\u001B[0m \u001B[1;32mnot\u001B[0m \u001B[1;32mNone\u001B[0m\u001B[1;33m\u001B[0m\u001B[0m\n\u001B[0;32m   1320\u001B[0m         \u001B[0mjrdd\u001B[0m \u001B[1;33m=\u001B[0m \u001B[0mself\u001B[0m\u001B[1;33m.\u001B[0m\u001B[0m_jvm\u001B[0m\u001B[1;33m.\u001B[0m\u001B[0mSerDeUtil\u001B[0m\u001B[1;33m.\u001B[0m\u001B[0mtoJavaArray\u001B[0m\u001B[1;33m(\u001B[0m\u001B[0mrdd\u001B[0m\u001B[1;33m.\u001B[0m\u001B[0m_to_java_object_rdd\u001B[0m\u001B[1;33m(\u001B[0m\u001B[1;33m)\u001B[0m\u001B[1;33m)\u001B[0m\u001B[1;33m\u001B[0m\u001B[0m\n",
      "\u001B[1;32mc:\\users\\aadarsh jha\\pycharmprojects\\spark\\rdd\\venv\\lib\\site-packages\\pyspark\\sql\\session.py\u001B[0m in \u001B[0;36m_createFromLocal\u001B[1;34m(self, data, schema)\u001B[0m\n\u001B[0;32m    960\u001B[0m \u001B[1;33m\u001B[0m\u001B[0m\n\u001B[0;32m    961\u001B[0m         \u001B[1;32mif\u001B[0m \u001B[0mschema\u001B[0m \u001B[1;32mis\u001B[0m \u001B[1;32mNone\u001B[0m \u001B[1;32mor\u001B[0m \u001B[0misinstance\u001B[0m\u001B[1;33m(\u001B[0m\u001B[0mschema\u001B[0m\u001B[1;33m,\u001B[0m \u001B[1;33m(\u001B[0m\u001B[0mlist\u001B[0m\u001B[1;33m,\u001B[0m \u001B[0mtuple\u001B[0m\u001B[1;33m)\u001B[0m\u001B[1;33m)\u001B[0m\u001B[1;33m:\u001B[0m\u001B[1;33m\u001B[0m\u001B[0m\n\u001B[1;32m--> 962\u001B[1;33m             \u001B[0mstruct\u001B[0m \u001B[1;33m=\u001B[0m \u001B[0mself\u001B[0m\u001B[1;33m.\u001B[0m\u001B[0m_inferSchemaFromList\u001B[0m\u001B[1;33m(\u001B[0m\u001B[0mdata\u001B[0m\u001B[1;33m,\u001B[0m \u001B[0mnames\u001B[0m\u001B[1;33m=\u001B[0m\u001B[0mschema\u001B[0m\u001B[1;33m)\u001B[0m\u001B[1;33m\u001B[0m\u001B[0m\n\u001B[0m\u001B[0;32m    963\u001B[0m             \u001B[0mconverter\u001B[0m \u001B[1;33m=\u001B[0m \u001B[0m_create_converter\u001B[0m\u001B[1;33m(\u001B[0m\u001B[0mstruct\u001B[0m\u001B[1;33m)\u001B[0m\u001B[1;33m\u001B[0m\u001B[0m\n\u001B[0;32m    964\u001B[0m             \u001B[0mtupled_data\u001B[0m\u001B[1;33m:\u001B[0m \u001B[0mIterable\u001B[0m\u001B[1;33m[\u001B[0m\u001B[0mTuple\u001B[0m\u001B[1;33m]\u001B[0m \u001B[1;33m=\u001B[0m \u001B[0mmap\u001B[0m\u001B[1;33m(\u001B[0m\u001B[0mconverter\u001B[0m\u001B[1;33m,\u001B[0m \u001B[0mdata\u001B[0m\u001B[1;33m)\u001B[0m\u001B[1;33m\u001B[0m\u001B[0m\n",
      "\u001B[1;32mc:\\users\\aadarsh jha\\pycharmprojects\\spark\\rdd\\venv\\lib\\site-packages\\pyspark\\sql\\session.py\u001B[0m in \u001B[0;36m_inferSchemaFromList\u001B[1;34m(self, data, names)\u001B[0m\n\u001B[0;32m    832\u001B[0m             \u001B[1;32mraise\u001B[0m \u001B[0mValueError\u001B[0m\u001B[1;33m(\u001B[0m\u001B[1;34m\"can not infer schema from empty dataset\"\u001B[0m\u001B[1;33m)\u001B[0m\u001B[1;33m\u001B[0m\u001B[0m\n\u001B[0;32m    833\u001B[0m         \u001B[0minfer_dict_as_struct\u001B[0m \u001B[1;33m=\u001B[0m \u001B[0mself\u001B[0m\u001B[1;33m.\u001B[0m\u001B[0m_jconf\u001B[0m\u001B[1;33m.\u001B[0m\u001B[0minferDictAsStruct\u001B[0m\u001B[1;33m(\u001B[0m\u001B[1;33m)\u001B[0m\u001B[1;33m\u001B[0m\u001B[0m\n\u001B[1;32m--> 834\u001B[1;33m         \u001B[0minfer_array_from_first_element\u001B[0m \u001B[1;33m=\u001B[0m \u001B[0mself\u001B[0m\u001B[1;33m.\u001B[0m\u001B[0m_jconf\u001B[0m\u001B[1;33m.\u001B[0m\u001B[0mlegacyInferArrayTypeFromFirstElement\u001B[0m\u001B[1;33m(\u001B[0m\u001B[1;33m)\u001B[0m\u001B[1;33m\u001B[0m\u001B[0m\n\u001B[0m\u001B[0;32m    835\u001B[0m         \u001B[0mprefer_timestamp_ntz\u001B[0m \u001B[1;33m=\u001B[0m \u001B[0mis_timestamp_ntz_preferred\u001B[0m\u001B[1;33m(\u001B[0m\u001B[1;33m)\u001B[0m\u001B[1;33m\u001B[0m\u001B[0m\n\u001B[0;32m    836\u001B[0m         schema = reduce(\n",
      "\u001B[1;32mc:\\users\\aadarsh jha\\pycharmprojects\\spark\\rdd\\venv\\lib\\site-packages\\py4j\\java_gateway.py\u001B[0m in \u001B[0;36m__call__\u001B[1;34m(self, *args)\u001B[0m\n\u001B[0;32m   1321\u001B[0m         \u001B[0manswer\u001B[0m \u001B[1;33m=\u001B[0m \u001B[0mself\u001B[0m\u001B[1;33m.\u001B[0m\u001B[0mgateway_client\u001B[0m\u001B[1;33m.\u001B[0m\u001B[0msend_command\u001B[0m\u001B[1;33m(\u001B[0m\u001B[0mcommand\u001B[0m\u001B[1;33m)\u001B[0m\u001B[1;33m\u001B[0m\u001B[0m\n\u001B[0;32m   1322\u001B[0m         return_value = get_return_value(\n\u001B[1;32m-> 1323\u001B[1;33m             answer, self.gateway_client, self.target_id, self.name)\n\u001B[0m\u001B[0;32m   1324\u001B[0m \u001B[1;33m\u001B[0m\u001B[0m\n\u001B[0;32m   1325\u001B[0m         \u001B[1;32mfor\u001B[0m \u001B[0mtemp_arg\u001B[0m \u001B[1;32min\u001B[0m \u001B[0mtemp_args\u001B[0m\u001B[1;33m:\u001B[0m\u001B[1;33m\u001B[0m\u001B[0m\n",
      "\u001B[1;32mc:\\users\\aadarsh jha\\pycharmprojects\\spark\\rdd\\venv\\lib\\site-packages\\pyspark\\errors\\exceptions\\captured.py\u001B[0m in \u001B[0;36mdeco\u001B[1;34m(*a, **kw)\u001B[0m\n\u001B[0;32m    167\u001B[0m     \u001B[1;32mdef\u001B[0m \u001B[0mdeco\u001B[0m\u001B[1;33m(\u001B[0m\u001B[1;33m*\u001B[0m\u001B[0ma\u001B[0m\u001B[1;33m:\u001B[0m \u001B[0mAny\u001B[0m\u001B[1;33m,\u001B[0m \u001B[1;33m**\u001B[0m\u001B[0mkw\u001B[0m\u001B[1;33m:\u001B[0m \u001B[0mAny\u001B[0m\u001B[1;33m)\u001B[0m \u001B[1;33m->\u001B[0m \u001B[0mAny\u001B[0m\u001B[1;33m:\u001B[0m\u001B[1;33m\u001B[0m\u001B[0m\n\u001B[0;32m    168\u001B[0m         \u001B[1;32mtry\u001B[0m\u001B[1;33m:\u001B[0m\u001B[1;33m\u001B[0m\u001B[0m\n\u001B[1;32m--> 169\u001B[1;33m             \u001B[1;32mreturn\u001B[0m \u001B[0mf\u001B[0m\u001B[1;33m(\u001B[0m\u001B[1;33m*\u001B[0m\u001B[0ma\u001B[0m\u001B[1;33m,\u001B[0m \u001B[1;33m**\u001B[0m\u001B[0mkw\u001B[0m\u001B[1;33m)\u001B[0m\u001B[1;33m\u001B[0m\u001B[0m\n\u001B[0m\u001B[0;32m    170\u001B[0m         \u001B[1;32mexcept\u001B[0m \u001B[0mPy4JJavaError\u001B[0m \u001B[1;32mas\u001B[0m \u001B[0me\u001B[0m\u001B[1;33m:\u001B[0m\u001B[1;33m\u001B[0m\u001B[0m\n\u001B[0;32m    171\u001B[0m             \u001B[0mconverted\u001B[0m \u001B[1;33m=\u001B[0m \u001B[0mconvert_exception\u001B[0m\u001B[1;33m(\u001B[0m\u001B[0me\u001B[0m\u001B[1;33m.\u001B[0m\u001B[0mjava_exception\u001B[0m\u001B[1;33m)\u001B[0m\u001B[1;33m\u001B[0m\u001B[0m\n",
      "\u001B[1;32mc:\\users\\aadarsh jha\\pycharmprojects\\spark\\rdd\\venv\\lib\\site-packages\\py4j\\protocol.py\u001B[0m in \u001B[0;36mget_return_value\u001B[1;34m(answer, gateway_client, target_id, name)\u001B[0m\n\u001B[0;32m    330\u001B[0m                 raise Py4JError(\n\u001B[0;32m    331\u001B[0m                     \u001B[1;34m\"An error occurred while calling {0}{1}{2}. Trace:\\n{3}\\n\"\u001B[0m\u001B[1;33m.\u001B[0m\u001B[1;33m\u001B[0m\u001B[0m\n\u001B[1;32m--> 332\u001B[1;33m                     format(target_id, \".\", name, value))\n\u001B[0m\u001B[0;32m    333\u001B[0m         \u001B[1;32melse\u001B[0m\u001B[1;33m:\u001B[0m\u001B[1;33m\u001B[0m\u001B[0m\n\u001B[0;32m    334\u001B[0m             raise Py4JError(\n",
      "\u001B[1;31mPy4JError\u001B[0m: An error occurred while calling o61.legacyInferArrayTypeFromFirstElement. Trace:\npy4j.Py4JException: Method legacyInferArrayTypeFromFirstElement([]) does not exist\r\n\tat py4j.reflection.ReflectionEngine.getMethod(ReflectionEngine.java:318)\r\n\tat py4j.reflection.ReflectionEngine.getMethod(ReflectionEngine.java:326)\r\n\tat py4j.Gateway.invoke(Gateway.java:274)\r\n\tat py4j.commands.AbstractCommand.invokeMethod(AbstractCommand.java:132)\r\n\tat py4j.commands.CallCommand.execute(CallCommand.java:79)\r\n\tat py4j.ClientServerConnection.waitForCommands(ClientServerConnection.java:182)\r\n\tat py4j.ClientServerConnection.run(ClientServerConnection.java:106)\r\n\tat java.base/java.lang.Thread.run(Thread.java:834)\r\n\n"
     ]
    }
   ]
  },
  {
   "cell_type": "markdown",
   "source": [
    "df."
   ],
   "metadata": {}
  },
  {
   "cell_type": "code",
   "source": [
    "df.show()"
   ],
   "metadata": {
    "execution": {
     "iopub.status.busy": "2023-04-25T03:59:51.473701Z",
     "iopub.execute_input": "2023-04-25T03:59:51.474160Z",
     "iopub.status.idle": "2023-04-25T03:59:51.721139Z",
     "shell.execute_reply.started": "2023-04-25T03:59:51.474121Z",
     "shell.execute_reply": "2023-04-25T03:59:51.719531Z"
    },
    "trusted": true
   },
   "execution_count": 19,
   "outputs": [
    {
     "ename": "NameError",
     "evalue": "name 'df' is not defined",
     "output_type": "error",
     "traceback": [
      "\u001B[1;31m---------------------------------------------------------------------------\u001B[0m",
      "\u001B[1;31mNameError\u001B[0m                                 Traceback (most recent call last)",
      "\u001B[1;32m~\\AppData\\Local\\Temp\\ipykernel_23496\\3591918019.py\u001B[0m in \u001B[0;36m<module>\u001B[1;34m\u001B[0m\n\u001B[1;32m----> 1\u001B[1;33m \u001B[0mdf\u001B[0m\u001B[1;33m.\u001B[0m\u001B[0mshow\u001B[0m\u001B[1;33m(\u001B[0m\u001B[1;33m)\u001B[0m\u001B[1;33m\u001B[0m\u001B[0m\n\u001B[0m",
      "\u001B[1;31mNameError\u001B[0m: name 'df' is not defined"
     ]
    }
   ]
  },
  {
   "cell_type": "code",
   "source": [
    "df.groupBy('gender').agg({'salary': 'avg'}).show()\n"
   ],
   "metadata": {
    "execution": {
     "iopub.status.busy": "2023-04-25T03:59:52.755162Z",
     "iopub.execute_input": "2023-04-25T03:59:52.756960Z",
     "iopub.status.idle": "2023-04-25T03:59:53.111776Z",
     "shell.execute_reply.started": "2023-04-25T03:59:52.756816Z",
     "shell.execute_reply": "2023-04-25T03:59:53.110293Z"
    },
    "trusted": true
   },
   "execution_count": null,
   "outputs": []
  },
  {
   "cell_type": "code",
   "source": [
    "df.filter(df.gender == 'M').show()\n"
   ],
   "metadata": {
    "execution": {
     "iopub.status.busy": "2023-04-25T03:59:53.286134Z",
     "iopub.execute_input": "2023-04-25T03:59:53.286610Z",
     "iopub.status.idle": "2023-04-25T03:59:53.521507Z",
     "shell.execute_reply.started": "2023-04-25T03:59:53.286573Z",
     "shell.execute_reply": "2023-04-25T03:59:53.520259Z"
    },
    "trusted": true
   },
   "execution_count": null,
   "outputs": []
  },
  {
   "cell_type": "code",
   "source": [
    "df.select(\"firstname\").filter(\"firstname like 'M%'\").show()"
   ],
   "metadata": {
    "execution": {
     "iopub.status.busy": "2023-04-25T03:59:53.657706Z",
     "iopub.execute_input": "2023-04-25T03:59:53.658115Z",
     "iopub.status.idle": "2023-04-25T03:59:53.872649Z",
     "shell.execute_reply.started": "2023-04-25T03:59:53.658080Z",
     "shell.execute_reply": "2023-04-25T03:59:53.871382Z"
    },
    "trusted": true
   },
   "execution_count": null,
   "outputs": []
  },
  {
   "cell_type": "code",
   "source": [
    "df.sort('lastname').show()"
   ],
   "metadata": {
    "execution": {
     "iopub.status.busy": "2023-04-25T03:59:54.084776Z",
     "iopub.execute_input": "2023-04-25T03:59:54.085441Z",
     "iopub.status.idle": "2023-04-25T03:59:54.240662Z",
     "shell.execute_reply.started": "2023-04-25T03:59:54.085391Z",
     "shell.execute_reply": "2023-04-25T03:59:54.239240Z"
    },
    "trusted": true
   },
   "execution_count": null,
   "outputs": []
  },
  {
   "cell_type": "code",
   "source": [
    "df.describe().show()"
   ],
   "metadata": {
    "execution": {
     "iopub.status.busy": "2023-04-25T03:59:55.891723Z",
     "iopub.execute_input": "2023-04-25T03:59:55.892222Z",
     "iopub.status.idle": "2023-04-25T03:59:56.570715Z",
     "shell.execute_reply.started": "2023-04-25T03:59:55.892182Z",
     "shell.execute_reply": "2023-04-25T03:59:56.569403Z"
    },
    "trusted": true
   },
   "execution_count": null,
   "outputs": []
  },
  {
   "cell_type": "code",
   "source": [],
   "metadata": {},
   "execution_count": null,
   "outputs": []
  }
 ]
}
